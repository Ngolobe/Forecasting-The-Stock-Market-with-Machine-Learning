{
  "nbformat": 4,
  "nbformat_minor": 0,
  "metadata": {
    "colab": {
      "name": "deepLearning.ipynb",
      "provenance": [],
      "collapsed_sections": [],
      "authorship_tag": "ABX9TyPX8rTGm8d/QCkOAx8Y8ohx",
      "include_colab_link": true
    },
    "kernelspec": {
      "name": "python3",
      "display_name": "Python 3"
    }
  },
  "cells": [
    {
      "cell_type": "markdown",
      "metadata": {
        "id": "view-in-github",
        "colab_type": "text"
      },
      "source": [
        "<a href=\"https://colab.research.google.com/github/Ngolobe/Forecasting-The-Stock-Market-with-Machine-Learning/blob/master/deepLearning.ipynb\" target=\"_parent\"><img src=\"https://colab.research.google.com/assets/colab-badge.svg\" alt=\"Open In Colab\"/></a>"
      ]
    },
    {
      "cell_type": "code",
      "metadata": {
        "id": "VWzKCqorsn9H",
        "colab_type": "code",
        "colab": {
          "base_uri": "https://localhost:8080/",
          "height": 35
        },
        "outputId": "0fb9e4e2-88a9-480c-cb15-484777785c13"
      },
      "source": [
        "# !pip install tensorflow==1.6\n",
        "# import tensorflow as tf\n",
        "print(tf.__version__)"
      ],
      "execution_count": null,
      "outputs": [
        {
          "output_type": "stream",
          "text": [
            "1.6.0\n"
          ],
          "name": "stdout"
        }
      ]
    },
    {
      "cell_type": "code",
      "metadata": {
        "id": "6wUUoSLhTq53",
        "colab_type": "code",
        "colab": {
          "base_uri": "https://localhost:8080/",
          "height": 296
        },
        "outputId": "67f414df-0f0f-40f3-81d1-d2228696b8d0"
      },
      "source": [
        "# Make sure that you have all these libaries available to run the code successfully\n",
        "from pandas_datareader import data\n",
        "import matplotlib.pyplot as plt\n",
        "import pandas as pd\n",
        "import datetime as dt\n",
        "import urllib.request, json\n",
        "import os\n",
        "import numpy as np\n",
        "import tensorflow as tf # This code has been tested with TensorFlow 1.6\n",
        "from sklearn.preprocessing import MinMaxScaler"
      ],
      "execution_count": 1,
      "outputs": [
        {
          "output_type": "stream",
          "text": [
            "/usr/local/lib/python3.6/dist-packages/pandas_datareader/compat/__init__.py:7: FutureWarning: pandas.util.testing is deprecated. Use the functions in the public API at pandas.testing instead.\n",
            "  from pandas.util.testing import assert_frame_equal\n",
            "/usr/local/lib/python3.6/dist-packages/tensorflow/python/framework/dtypes.py:517: FutureWarning: Passing (type, 1) or '1type' as a synonym of type is deprecated; in a future version of numpy, it will be understood as (type, (1,)) / '(1,)type'.\n",
            "  _np_qint8 = np.dtype([(\"qint8\", np.int8, 1)])\n",
            "/usr/local/lib/python3.6/dist-packages/tensorflow/python/framework/dtypes.py:518: FutureWarning: Passing (type, 1) or '1type' as a synonym of type is deprecated; in a future version of numpy, it will be understood as (type, (1,)) / '(1,)type'.\n",
            "  _np_quint8 = np.dtype([(\"quint8\", np.uint8, 1)])\n",
            "/usr/local/lib/python3.6/dist-packages/tensorflow/python/framework/dtypes.py:519: FutureWarning: Passing (type, 1) or '1type' as a synonym of type is deprecated; in a future version of numpy, it will be understood as (type, (1,)) / '(1,)type'.\n",
            "  _np_qint16 = np.dtype([(\"qint16\", np.int16, 1)])\n",
            "/usr/local/lib/python3.6/dist-packages/tensorflow/python/framework/dtypes.py:520: FutureWarning: Passing (type, 1) or '1type' as a synonym of type is deprecated; in a future version of numpy, it will be understood as (type, (1,)) / '(1,)type'.\n",
            "  _np_quint16 = np.dtype([(\"quint16\", np.uint16, 1)])\n",
            "/usr/local/lib/python3.6/dist-packages/tensorflow/python/framework/dtypes.py:521: FutureWarning: Passing (type, 1) or '1type' as a synonym of type is deprecated; in a future version of numpy, it will be understood as (type, (1,)) / '(1,)type'.\n",
            "  _np_qint32 = np.dtype([(\"qint32\", np.int32, 1)])\n",
            "/usr/local/lib/python3.6/dist-packages/tensorflow/python/framework/dtypes.py:526: FutureWarning: Passing (type, 1) or '1type' as a synonym of type is deprecated; in a future version of numpy, it will be understood as (type, (1,)) / '(1,)type'.\n",
            "  np_resource = np.dtype([(\"resource\", np.ubyte, 1)])\n"
          ],
          "name": "stderr"
        }
      ]
    },
    {
      "cell_type": "markdown",
      "metadata": {
        "id": "U1IawIRjT-fB",
        "colab_type": "text"
      },
      "source": [
        "## Downloading the Data\n"
      ]
    },
    {
      "cell_type": "code",
      "metadata": {
        "id": "z2vsPV8ZT4o-",
        "colab_type": "code",
        "colab": {}
      },
      "source": [
        ""
      ],
      "execution_count": 1,
      "outputs": []
    },
    {
      "cell_type": "code",
      "metadata": {
        "scrolled": true,
        "id": "zQyBnTkqTIjk",
        "colab_type": "code",
        "colab": {
          "base_uri": "https://localhost:8080/",
          "height": 238
        },
        "outputId": "f833d22f-5dcd-4a9b-ab0d-33cca29df276"
      },
      "source": [
        "# Define the instruments to download. We would like to see the S&P500 index.\n",
        "ticker = '^GSPC'\n",
        "\n",
        "# We would like all available data from 01/01/1971 until 12/31/2019.\n",
        "start_date = '1971-01-01'\n",
        "end_date = '2019-12-31'\n",
        "\n",
        "# Use pandas_reader.data.DataReader to load the desired data. \n",
        "df = data.DataReader('^GSPC', 'yahoo', start_date, end_date)\n",
        "df.head()"
      ],
      "execution_count": 2,
      "outputs": [
        {
          "output_type": "execute_result",
          "data": {
            "text/html": [
              "<div>\n",
              "<style scoped>\n",
              "    .dataframe tbody tr th:only-of-type {\n",
              "        vertical-align: middle;\n",
              "    }\n",
              "\n",
              "    .dataframe tbody tr th {\n",
              "        vertical-align: top;\n",
              "    }\n",
              "\n",
              "    .dataframe thead th {\n",
              "        text-align: right;\n",
              "    }\n",
              "</style>\n",
              "<table border=\"1\" class=\"dataframe\">\n",
              "  <thead>\n",
              "    <tr style=\"text-align: right;\">\n",
              "      <th></th>\n",
              "      <th>High</th>\n",
              "      <th>Low</th>\n",
              "      <th>Open</th>\n",
              "      <th>Close</th>\n",
              "      <th>Volume</th>\n",
              "      <th>Adj Close</th>\n",
              "    </tr>\n",
              "    <tr>\n",
              "      <th>Date</th>\n",
              "      <th></th>\n",
              "      <th></th>\n",
              "      <th></th>\n",
              "      <th></th>\n",
              "      <th></th>\n",
              "      <th></th>\n",
              "    </tr>\n",
              "  </thead>\n",
              "  <tbody>\n",
              "    <tr>\n",
              "      <th>1971-01-04</th>\n",
              "      <td>92.190002</td>\n",
              "      <td>90.639999</td>\n",
              "      <td>92.150002</td>\n",
              "      <td>91.150002</td>\n",
              "      <td>10010000</td>\n",
              "      <td>91.150002</td>\n",
              "    </tr>\n",
              "    <tr>\n",
              "      <th>1971-01-05</th>\n",
              "      <td>92.279999</td>\n",
              "      <td>90.690002</td>\n",
              "      <td>91.150002</td>\n",
              "      <td>91.800003</td>\n",
              "      <td>12600000</td>\n",
              "      <td>91.800003</td>\n",
              "    </tr>\n",
              "    <tr>\n",
              "      <th>1971-01-06</th>\n",
              "      <td>93.000000</td>\n",
              "      <td>91.500000</td>\n",
              "      <td>91.800003</td>\n",
              "      <td>92.349998</td>\n",
              "      <td>16960000</td>\n",
              "      <td>92.349998</td>\n",
              "    </tr>\n",
              "    <tr>\n",
              "      <th>1971-01-07</th>\n",
              "      <td>93.260002</td>\n",
              "      <td>91.750000</td>\n",
              "      <td>92.349998</td>\n",
              "      <td>92.379997</td>\n",
              "      <td>16460000</td>\n",
              "      <td>92.379997</td>\n",
              "    </tr>\n",
              "    <tr>\n",
              "      <th>1971-01-08</th>\n",
              "      <td>93.019997</td>\n",
              "      <td>91.599998</td>\n",
              "      <td>92.379997</td>\n",
              "      <td>92.190002</td>\n",
              "      <td>14100000</td>\n",
              "      <td>92.190002</td>\n",
              "    </tr>\n",
              "  </tbody>\n",
              "</table>\n",
              "</div>"
            ],
            "text/plain": [
              "                 High        Low       Open      Close    Volume  Adj Close\n",
              "Date                                                                       \n",
              "1971-01-04  92.190002  90.639999  92.150002  91.150002  10010000  91.150002\n",
              "1971-01-05  92.279999  90.690002  91.150002  91.800003  12600000  91.800003\n",
              "1971-01-06  93.000000  91.500000  91.800003  92.349998  16960000  92.349998\n",
              "1971-01-07  93.260002  91.750000  92.349998  92.379997  16460000  92.379997\n",
              "1971-01-08  93.019997  91.599998  92.379997  92.190002  14100000  92.190002"
            ]
          },
          "metadata": {
            "tags": []
          },
          "execution_count": 2
        }
      ]
    },
    {
      "cell_type": "code",
      "metadata": {
        "id": "NvoDWZw_Y4rS",
        "colab_type": "code",
        "colab": {}
      },
      "source": [
        "df = df.reset_index()"
      ],
      "execution_count": 3,
      "outputs": []
    },
    {
      "cell_type": "code",
      "metadata": {
        "id": "hzTPiuj0ZOd0",
        "colab_type": "code",
        "colab": {}
      },
      "source": [
        ""
      ],
      "execution_count": 3,
      "outputs": []
    },
    {
      "cell_type": "code",
      "metadata": {
        "id": "F7kReLzWZ64Q",
        "colab_type": "code",
        "colab": {
          "base_uri": "https://localhost:8080/",
          "height": 35
        },
        "outputId": "6b65cfd6-0857-4c68-918a-db33a5021e7d"
      },
      "source": [
        "df.columns"
      ],
      "execution_count": 4,
      "outputs": [
        {
          "output_type": "execute_result",
          "data": {
            "text/plain": [
              "Index(['Date', 'High', 'Low', 'Open', 'Close', 'Volume', 'Adj Close'], dtype='object')"
            ]
          },
          "metadata": {
            "tags": []
          },
          "execution_count": 4
        }
      ]
    },
    {
      "cell_type": "markdown",
      "metadata": {
        "id": "heXt79ttUu8t",
        "colab_type": "text"
      },
      "source": [
        "##Data Exploration and Visualization"
      ]
    },
    {
      "cell_type": "code",
      "metadata": {
        "id": "d2aTqbNbT43i",
        "colab_type": "code",
        "colab": {
          "base_uri": "https://localhost:8080/",
          "height": 631
        },
        "outputId": "711e363c-adbb-4e75-ca36-f9fa3c678a2b"
      },
      "source": [
        "plt.figure(figsize = (18,9))\n",
        "plt.plot(range(df.shape[0]),(df['Low']+df['High'])/2.0)\n",
        "plt.xticks(range(0,df.shape[0],500),df['Date'].loc[::500],rotation=45)\n",
        "plt.xlabel('Date',fontsize=18)\n",
        "plt.ylabel('Mid Price',fontsize=18)\n",
        "plt.show()"
      ],
      "execution_count": 5,
      "outputs": [
        {
          "output_type": "display_data",
          "data": {
            "image/png": "[encoded data removed]",
            "text/plain": [
              "<Figure size 1296x648 with 1 Axes>"
            ]
          },
          "metadata": {
            "tags": [],
            "needs_background": "light"
          }
        }
      ]
    },
    {
      "cell_type": "markdown",
      "metadata": {
        "id": "GLrJrfdTWuEo",
        "colab_type": "text"
      },
      "source": [
        "##Splitting Data into a Training set and a Test set"
      ]
    },
    {
      "cell_type": "code",
      "metadata": {
        "id": "w58Q4H6IT5K2",
        "colab_type": "code",
        "colab": {}
      },
      "source": [
        "# First calculate the mid prices from the highest and lowest\n",
        "high_prices = df.loc[:,'High'].to_numpy()\n",
        "low_prices = df.loc[:,'Low'].to_numpy()\n",
        "mid_prices = (high_prices+low_prices)/2.0"
      ],
      "execution_count": 6,
      "outputs": []
    },
    {
      "cell_type": "code",
      "metadata": {
        "id": "aLlDyhGrT5HA",
        "colab_type": "code",
        "colab": {}
      },
      "source": [
        "train_data = mid_prices[:11000]\n",
        "test_data = mid_prices[11000:]"
      ],
      "execution_count": 7,
      "outputs": []
    },
    {
      "cell_type": "code",
      "metadata": {
        "id": "slGyNCDieEB1",
        "colab_type": "code",
        "colab": {}
      },
      "source": [
        ""
      ],
      "execution_count": 7,
      "outputs": []
    },
    {
      "cell_type": "markdown",
      "metadata": {
        "id": "mUNc4EGYeEOe",
        "colab_type": "text"
      },
      "source": [
        "##Normalizing the Data"
      ]
    },
    {
      "cell_type": "markdown",
      "metadata": {
        "id": "e-zNgvWyeadN",
        "colab_type": "text"
      },
      "source": [
        "Now you need to define a scaler to normalize the data. MinMaxScalar scales all the data to be in the region of 0 and 1. You can also reshape the training and test data to be in the shape [data_size, num_features]."
      ]
    },
    {
      "cell_type": "code",
      "metadata": {
        "id": "vRIqBPAkT5ED",
        "colab_type": "code",
        "colab": {}
      },
      "source": [
        "# Scale the data to be between 0 and 1\n",
        "# When scaling remember! You normalize both test and train data with respect to training data\n",
        "# Because you are not supposed to have access to test data\n",
        "scaler = MinMaxScaler()\n",
        "train_data = train_data.reshape(-1,1)\n",
        "test_data = test_data.reshape(-1,1)"
      ],
      "execution_count": 8,
      "outputs": []
    },
    {
      "cell_type": "markdown",
      "metadata": {
        "id": "TsVJP5Qfei1W",
        "colab_type": "text"
      },
      "source": [
        "Due to the observation you made earlier, that is, different time periods of data have different value ranges, you normalize the data by splitting the full series into windows. If you don't do this, the earlier data will be close to 0 and will not add much value to the learning process. Here you choose a window size of 2500.\n",
        "\n",
        "Tip: when choosing the window size make sure it's not too small, because when you perform windowed-normalization, it can introduce a break at the very end of each window, as each window is normalized independently.\n",
        "\n",
        "In this example, 4 data points will be affected by this. But given you have 11,000 data points, 4 points will not cause any issue"
      ]
    },
    {
      "cell_type": "code",
      "metadata": {
        "id": "MmSsde8OehT7",
        "colab_type": "code",
        "colab": {}
      },
      "source": [
        "# Train the Scaler with training data and smooth data\n",
        "smoothing_window_size = 2500\n",
        "for di in range(0,10000,smoothing_window_size):\n",
        "    scaler.fit(train_data[di:di+smoothing_window_size,:])\n",
        "    train_data[di:di+smoothing_window_size,:] = scaler.transform(train_data[di:di+smoothing_window_size,:])\n",
        "\n",
        "# You normalize the last bit of remaining data\n",
        "scaler.fit(train_data[di+smoothing_window_size:,:])\n",
        "train_data[di+smoothing_window_size:,:] = scaler.transform(train_data[di+smoothing_window_size:,:])"
      ],
      "execution_count": 9,
      "outputs": []
    },
    {
      "cell_type": "markdown",
      "metadata": {
        "id": "yU7oOOfDfQSM",
        "colab_type": "text"
      },
      "source": [
        "Reshape the data back to the shape of [data_size]"
      ]
    },
    {
      "cell_type": "code",
      "metadata": {
        "id": "aE9WYxnveJZe",
        "colab_type": "code",
        "colab": {}
      },
      "source": [
        "# Reshape both train and test data\n",
        "train_data = train_data.reshape(-1)\n",
        "\n",
        "# Normalize test data\n",
        "test_data = scaler.transform(test_data).reshape(-1)"
      ],
      "execution_count": 10,
      "outputs": []
    },
    {
      "cell_type": "markdown",
      "metadata": {
        "id": "HZXT2Denf8lW",
        "colab_type": "text"
      },
      "source": [
        "You can now smooth the data using the exponential moving average. This helps you to get rid of the inherent raggedness of the data in stock prices and produce a smoother curve.\n",
        "\n",
        "Note that you should only smooth training data."
      ]
    },
    {
      "cell_type": "code",
      "metadata": {
        "id": "3y1c75yceJUr",
        "colab_type": "code",
        "colab": {}
      },
      "source": [
        "# Now perform exponential moving average smoothing\n",
        "# So the data will have a smoother curve than the original ragged data\n",
        "EMA = 0.0\n",
        "gamma = 0.1\n",
        "for ti in range(11000):\n",
        "  EMA = gamma*train_data[ti] + (1-gamma)*EMA\n",
        "  train_data[ti] = EMA\n",
        "\n",
        "# Used for visualization and test purposes\n",
        "all_mid_data = np.concatenate([train_data,test_data],axis=0)"
      ],
      "execution_count": 11,
      "outputs": []
    },
    {
      "cell_type": "markdown",
      "metadata": {
        "id": "ocYlQVkLgN9W",
        "colab_type": "text"
      },
      "source": [
        "##One-Step Ahead Prediction via Averaging"
      ]
    },
    {
      "cell_type": "markdown",
      "metadata": {
        "id": "CclakBliglu-",
        "colab_type": "text"
      },
      "source": [
        "Averaging mechanisms allow you to predict (often one time step ahead) by representing the future stock price as an average of the previously observed stock prices. Doing this for more than one time step can produce quite bad results. You will look at two averaging techniques below; standard averaging and exponential moving average. You will evaluate both qualitatively (visual inspection) and quantitatively (Mean Squared Error) the results produced by the two algorithms.\n",
        "\n",
        "The Mean Squared Error (MSE) can be calculated by taking the Squared Error between the true value at one step ahead and the predicted value and averaging it over all the predictions."
      ]
    },
    {
      "cell_type": "markdown",
      "metadata": {
        "id": "8co4biM_g8Hm",
        "colab_type": "text"
      },
      "source": [
        "###Standard Average"
      ]
    },
    {
      "cell_type": "markdown",
      "metadata": {
        "id": "Ohr3o86chC1A",
        "colab_type": "text"
      },
      "source": [
        "You can understand the difficulty of this problem by first trying to model this as an average calculation problem. First you will try to predict the future stock market prices (for example, xt+1 ) as an average of the previously observed stock market prices within a fixed size window (for example, xt-N, ..., xt) (say previous 100 days). Thereafter you will try a bit more fancier \"exponential moving average\" method and see how well that does. Then you will move on to the \"holy-grail\" of time-series prediction; Long Short-Term Memory models.\n",
        "\n",
        "First you will see how normal averaging works. That is you say,\n",
        " $$ x_{t+1}=\\frac{1}{N}\\sum_{i=t-N}^{t} x_{i}$$\n",
        "In other words, you say the prediction at t+1\n",
        "is the average value of all the stock prices you observed within a window of t to t−N."
      ]
    },
    {
      "cell_type": "code",
      "metadata": {
        "id": "g58QHGK8gRYk",
        "colab_type": "code",
        "colab": {
          "base_uri": "https://localhost:8080/",
          "height": 35
        },
        "outputId": "7729723c-c7bb-4def-df3d-5116d3823fd3"
      },
      "source": [
        "window_size = 100\n",
        "N = train_data.size\n",
        "std_avg_predictions = []\n",
        "std_avg_x = []\n",
        "mse_errors = []\n",
        "\n",
        "for pred_idx in range(window_size,N):\n",
        "\n",
        "    if pred_idx >= N:\n",
        "        date = dt.datetime.strptime(k, '%Y-%m-%d').date() + dt.timedelta(days=1)\n",
        "    else:\n",
        "        date = df.loc[pred_idx,'Date']\n",
        "\n",
        "    std_avg_predictions.append(np.mean(train_data[pred_idx-window_size:pred_idx]))\n",
        "    mse_errors.append((std_avg_predictions[-1]-train_data[pred_idx])**2)\n",
        "    std_avg_x.append(date)\n",
        "\n",
        "print('MSE error for standard averaging: %.5f'%(0.5*np.mean(mse_errors)))"
      ],
      "execution_count": 12,
      "outputs": [
        {
          "output_type": "stream",
          "text": [
            "MSE error for standard averaging: 0.00372\n"
          ],
          "name": "stdout"
        }
      ]
    },
    {
      "cell_type": "markdown",
      "metadata": {
        "id": "4zZtrk0tjl_Y",
        "colab_type": "text"
      },
      "source": [
        "Take a look at the averaged results below. It follows the actual behavior of stock quite closely. Next, you will look at a more accurate one-step prediction method."
      ]
    },
    {
      "cell_type": "code",
      "metadata": {
        "id": "dGJptq0PgMRC",
        "colab_type": "code",
        "colab": {
          "base_uri": "https://localhost:8080/",
          "height": 551
        },
        "outputId": "6d49ae5f-7d17-482d-b508-7b57eb019ebc"
      },
      "source": [
        "plt.figure(figsize = (18,9))\n",
        "plt.plot(range(df.shape[0]),all_mid_data,color='b',label='True')\n",
        "plt.plot(range(window_size,N),std_avg_predictions,color='orange',label='Prediction')\n",
        "#plt.xticks(range(0,df.shape[0],50),df['Date'].loc[::50],rotation=45)\n",
        "plt.xlabel('Date')\n",
        "plt.ylabel('Mid Price')\n",
        "plt.legend(fontsize=18)\n",
        "plt.show()"
      ],
      "execution_count": 13,
      "outputs": [
        {
          "output_type": "display_data",
          "data": {
            "image/png": "[encoded data removed]",
            "text/plain": [
              "<Figure size 1296x648 with 1 Axes>"
            ]
          },
          "metadata": {
            "tags": [],
            "needs_background": "light"
          }
        }
      ]
    },
    {
      "cell_type": "markdown",
      "metadata": {
        "id": "hP_2kENzg42X",
        "colab_type": "text"
      },
      "source": [
        "So what do the above graphs (and the MSE) say?\n",
        "\n",
        "It seems that it is not too bad of a model for very short predictions (one day ahead). Given that stock prices don't change from 0 to 100 overnight, this behavior is sensible. Next, you will look at a fancier averaging technique known as exponential moving average."
      ]
    },
    {
      "cell_type": "markdown",
      "metadata": {
        "id": "mEMsQbjxhTrG",
        "colab_type": "text"
      },
      "source": [
        "###Exponential Moving Average\n",
        "\n",
        "\n"
      ]
    },
    {
      "cell_type": "markdown",
      "metadata": {
        "id": "N4m1aFGHhkWK",
        "colab_type": "text"
      },
      "source": [
        "You might have seen some articles on the internet using very complex models and predicting almost the exact behavior of the stock market. But beware! These are just optical illusions and not due to learning something useful. You will see below how you can replicate that behavior with a simple averaging method.\n",
        "\n",
        "In the exponential moving average method, you calculate $x_{t+1}$\n",
        "as,\n",
        "$$x_{t+1}=EMA_t=\\gamma×EMA_{t−1}+(1−\\gamma)x_t$$\n",
        "\n",
        "where $EMA_{0}=0$ and $EMA$ is the exponential moving average value you maintain over time.\n",
        "\n",
        "The above equation basically calculates the exponential moving average from t+1 time step and uses that as the one step ahead prediction. γ decides what the contribution of the most recent prediction is to the EMA. For example, a γ=0.1 gets only 10% of the current value into the EMA. Because you take only a very small fraction of the most recent, it allows to preserve much older values you saw very early in the average. See how good this looks when used to predict one-step ahead below."
      ]
    },
    {
      "cell_type": "code",
      "metadata": {
        "id": "KPjrAOZdjonA",
        "colab_type": "code",
        "colab": {
          "base_uri": "https://localhost:8080/",
          "height": 35
        },
        "outputId": "d5d9407d-0431-4233-f2f9-4645edc204ae"
      },
      "source": [
        "window_size = 100\n",
        "N = train_data.size\n",
        "\n",
        "run_avg_predictions = []\n",
        "run_avg_x = []\n",
        "\n",
        "mse_errors = []\n",
        "\n",
        "running_mean = 0.0\n",
        "run_avg_predictions.append(running_mean)\n",
        "\n",
        "decay = 0.5\n",
        "\n",
        "for pred_idx in range(1,N):\n",
        "\n",
        "    running_mean = running_mean*decay + (1.0-decay)*train_data[pred_idx-1]\n",
        "    run_avg_predictions.append(running_mean)\n",
        "    mse_errors.append((run_avg_predictions[-1]-train_data[pred_idx])**2)\n",
        "    run_avg_x.append(date)\n",
        "\n",
        "print('MSE error for EMA averaging: %.5f'%(0.5*np.mean(mse_errors)))"
      ],
      "execution_count": 14,
      "outputs": [
        {
          "output_type": "stream",
          "text": [
            "MSE error for EMA averaging: 0.00002\n"
          ],
          "name": "stdout"
        }
      ]
    },
    {
      "cell_type": "code",
      "metadata": {
        "id": "121xZ44Cjoze",
        "colab_type": "code",
        "colab": {
          "base_uri": "https://localhost:8080/",
          "height": 551
        },
        "outputId": "fced89ac-a98f-4fae-ae6a-e2a635f48dc2"
      },
      "source": [
        "plt.figure(figsize = (18,9))\n",
        "plt.plot(range(df.shape[0]),all_mid_data,color='b',label='True')\n",
        "plt.plot(range(0,N),run_avg_predictions,color='orange', label='Prediction')\n",
        "#plt.xticks(range(0,df.shape[0],50),df['Date'].loc[::50],rotation=45)\n",
        "plt.xlabel('Date')\n",
        "plt.ylabel('Mid Price')\n",
        "plt.legend(fontsize=18)\n",
        "plt.show()"
      ],
      "execution_count": 15,
      "outputs": [
        {
          "output_type": "display_data",
          "data": {
            "image/png": "[encoded data removed]",
            "text/plain": [
              "<Figure size 1296x648 with 1 Axes>"
            ]
          },
          "metadata": {
            "tags": [],
            "needs_background": "light"
          }
        }
      ]
    },
    {
      "cell_type": "markdown",
      "metadata": {
        "id": "Dxi3_CnbkQpM",
        "colab_type": "text"
      },
      "source": [
        "###If Exponential Moving Average is this Good, Why do You Need Better Models?"
      ]
    },
    {
      "cell_type": "markdown",
      "metadata": {
        "id": "INMUkhHnlNTD",
        "colab_type": "text"
      },
      "source": [
        "You see that it fits a perfect line that follows the True distribution (and justified by the very low MSE). Practically speaking, you can't do much with just the stock market value of the next day. Personally what I'd like is not the exact stock market price for the next day, but would the stock market prices go up or down in the next 30 days. Try to do this, and you will expose the incapability of the EMA method.\n",
        "\n",
        "You will now try to make predictions in windows (say you predict the next 2 days window, instead of just the next day). Then you will realize how wrong EMA can go. Here is an example:"
      ]
    },
    {
      "cell_type": "markdown",
      "metadata": {
        "id": "DRwrD4q7ls5z",
        "colab_type": "text"
      },
      "source": [
        "###Predict More Than One Step into the Future"
      ]
    },
    {
      "cell_type": "markdown",
      "metadata": {
        "id": "5ZRmYiF9mZik",
        "colab_type": "text"
      },
      "source": [
        "To make things concrete, let's assume values, say $x_t=0.4$, EMA=0.5 and γ=0.5\n",
        "\n",
        "    Say you get the output with the following equation\n",
        "        Xt+1 = EMAt = γ × EMAt-1 + (1 - γ)Xt\n",
        "        So you have xt+1 = 0.5 × 0.5 + (1-0.5) × 0.4 = 0.45\n",
        "        So Xt+1 = EMAt = 0.45\n",
        "    So the next prediction Xt+2 becomes,\n",
        "        Xt+2 = γ × EMAt + (1-γ)Xt+1\n",
        "        Which is Xt+2 = γ × EMAt + (1-γ) EMAt = EMAt\n",
        "        Or in this example, Xt+2 = Xt+1 = 0.45\n",
        "\n",
        "So no matter how many steps you predict in to the future, you'll keep getting the same answer for all the future prediction steps.\n",
        "\n",
        "One solution you have that will output useful information is to look at momentum-based algorithms. They make predictions based on whether the past recent values were going up or going down (not the exact values). For example, they will say the next day price is likely to be lower, if the prices have been dropping for the past days, which sounds reasonable. However, you will use a more complex model: an LSTM model.\n",
        "\n",
        "These models have taken the realm of time series prediction by storm, because they are so good at modelling time series data. You will see if there actually are patterns hidden in the data that you can exploit."
      ]
    },
    {
      "cell_type": "markdown",
      "metadata": {
        "id": "Ier_mXS8oY-c",
        "colab_type": "text"
      },
      "source": [
        "#Introduction to LSTMs: Making Stock Movement Predictions Far into the Future"
      ]
    },
    {
      "cell_type": "markdown",
      "metadata": {
        "id": "YXpshQJPolwr",
        "colab_type": "text"
      },
      "source": [
        "Long Short-Term Memory models are extremely powerful time-series models. They can predict an arbitrary number of steps into the future. An LSTM module (or cell) has 5 essential components which allows it to model both long-term and short-term data.\n",
        "\n",
        "* Cell state $(c_t)$ - This represents the internal memory of the  which stores both short term memory and long-term memories \n",
        "* Hidden state $(h_t)$ - This is output state information calculated w.r.t. current input, previous hidden state and current cell input which you eventually use to predict the future stock market prices. Additionally, the hidden state can decide to only retrive the short or long-term or both types of memory stored in the cell state to make the next prediction.\n",
        "* Input gate $(i_t)$ - Decides how much information from current input flows to the cell state\n",
        "*    Forget gate $(f_t)$ - Decides how much information from the current input and the previous cell state flows into the current cell state\n",
        "*    Output gate $(o_t)$ - Decides how much information from the current cell state flows into the hidden state, so that if needed LSTM can only pick the long-term memories or short-term memories and long-term memories\n",
        "\n",
        "A cell is pictured below.\n",
        "\n",
        "![](https://res.cloudinary.com/dyd911kmh/image/upload/f_auto,q_auto:best/v1523953369/lstm_xszk4d.png)\n",
        "\n",
        "And the equations for calculating each of these entities are as follows.\n",
        "\n",
        "* $i_t = \\sigma(W_{ix}X_t + W_{ih}h_{t-1} + b_i)$\n",
        "* $\\tilde{c}_t=\\sigma(W_{cx}x_t+W_{ch}h_{t−1}+b_c)$\n",
        "* $f_t=\\sigma(W_{fx}x_t+W_{fh}h_{t−1}+b_f)$\n",
        "* $c_t=f_tc_{t−1}+i_t\\tilde{c}_t$\n",
        "* $o_t=\\sigma(W_{ox}x_t+W_{oh}h_{t−1}+b_o)$\n",
        "* $h_t=o_ttanh(c_t)$\n",
        "\n",
        "For a better (more technical) understanding about LSTMs you can refer to this article.\n",
        "\n",
        "TensorFlow provides a nice sub API (called RNN API) for implementing time series models. You will be using that for your implementations.\n"
      ]
    },
    {
      "cell_type": "code",
      "metadata": {
        "id": "NGhDvgIRjoxA",
        "colab_type": "code",
        "colab": {}
      },
      "source": [
        "#https://www.datacamp.com/community/tutorials/lstm-python-stock-market?utm_source=adwords_ppc&utm_campaignid=898687156&utm_adgroupid=48947256715&utm_device=c&utm_keyword=&utm_matchtype=b&utm_network=g&utm_adpostion=&utm_creative=332602034349&utm_targetid=dsa-429603003980&utm_loc_interest_ms=&utm_loc_physical_ms=1005582&gclid=EAIaIQobChMIx9_k0Mnt6wIVjNwYCh0HBwpnEAAYASAAEgLox_D_BwE#comments\n"
      ],
      "execution_count": 16,
      "outputs": []
    },
    {
      "cell_type": "code",
      "metadata": {
        "id": "v9sifr8clTsW",
        "colab_type": "code",
        "colab": {}
      },
      "source": [
        ""
      ],
      "execution_count": 16,
      "outputs": []
    },
    {
      "cell_type": "markdown",
      "metadata": {
        "id": "CkCZv-87y_A5",
        "colab_type": "text"
      },
      "source": [
        "###Data Generator"
      ]
    },
    {
      "cell_type": "markdown",
      "metadata": {
        "id": "dsxlK0WGp_4C",
        "colab_type": "text"
      },
      "source": [
        "You are first going to implement a data generator to train your model. This data generator will have a method called .unroll_batches(...) which will output a set of num_unrollings batches of input data obtained sequentially, where a batch of data is of size [batch_size, 1]. Then each batch of input data will have a corresponding output batch of data.\n",
        "\n",
        "For example if num_unrollings=3 and batch_size=4 a set of unrolled batches it might look like,\n",
        "\n",
        "* input data: $[x0,x10,x20,x30],[x1,x11,x21,x31],[x2,x12,x22,x32]$\n",
        "\n",
        "* output data: $[x1,x11,x21,x31],[x2,x12,x22,x32],[x3,x13,x23,x33]$"
      ]
    },
    {
      "cell_type": "markdown",
      "metadata": {
        "id": "80pS4X3gqm8h",
        "colab_type": "text"
      },
      "source": [
        "###Data Augmentation"
      ]
    },
    {
      "cell_type": "markdown",
      "metadata": {
        "id": "OftMyqtaqrRE",
        "colab_type": "text"
      },
      "source": [
        "Also to make your model robust you will not make the output for $x_t$ always $x_t+1$. Rather you will randomly sample an output from the set $x_{t+1},x_{t+2},…,x_{t+N}$ where $N$ is a small window size.\n",
        "\n",
        "Here you are making the following assumption:\n",
        "\n",
        "* $x_{t+1},x_{t+2},…,x_{t+N}$ will not be very far from each other\n",
        "\n",
        "I personally think this is a reasonable assumption for stock movement predictions.\n",
        "\n",
        "Below you illustrate how a batch of data is created visually."
      ]
    },
    {
      "cell_type": "markdown",
      "metadata": {
        "id": "tDfiOMhCr64_",
        "colab_type": "text"
      },
      "source": [
        "![](https://res.cloudinary.com/dyd911kmh/image/upload/f_auto,q_auto:best/v1523953369/batch_pno02e.png)"
      ]
    },
    {
      "cell_type": "code",
      "metadata": {
        "id": "ZJihAtV5lTpT",
        "colab_type": "code",
        "colab": {
          "base_uri": "https://localhost:8080/",
          "height": 572
        },
        "outputId": "00161a50-885c-4a3c-cf3b-812be76f0604"
      },
      "source": [
        "\n",
        "class DataGeneratorSeq(object):\n",
        "\n",
        "    def __init__(self,prices,batch_size,num_unroll):\n",
        "        self._prices = prices\n",
        "        self._prices_length = len(self._prices) - num_unroll\n",
        "        self._batch_size = batch_size\n",
        "        self._num_unroll = num_unroll\n",
        "        self._segments = self._prices_length //self._batch_size\n",
        "        self._cursor = [offset * self._segments for offset in range(self._batch_size)]\n",
        "\n",
        "    def next_batch(self):\n",
        "\n",
        "        batch_data = np.zeros((self._batch_size),dtype=np.float32)\n",
        "        batch_labels = np.zeros((self._batch_size),dtype=np.float32)\n",
        "\n",
        "        for b in range(self._batch_size):\n",
        "            if self._cursor[b]+1>=self._prices_length:\n",
        "                #self._cursor[b] = b * self._segments\n",
        "                self._cursor[b] = np.random.randint(0,(b+1)*self._segments)\n",
        "\n",
        "            batch_data[b] = self._prices[self._cursor[b]]\n",
        "            batch_labels[b]= self._prices[self._cursor[b]+np.random.randint(0,5)]\n",
        "\n",
        "            self._cursor[b] = (self._cursor[b]+1)%self._prices_length\n",
        "\n",
        "        return batch_data,batch_labels\n",
        "\n",
        "    def unroll_batches(self):\n",
        "\n",
        "        unroll_data,unroll_labels = [],[]\n",
        "        init_data, init_label = None,None\n",
        "        for ui in range(self._num_unroll):\n",
        "\n",
        "            data, labels = self.next_batch()    \n",
        "\n",
        "            unroll_data.append(data)\n",
        "            unroll_labels.append(labels)\n",
        "\n",
        "        return unroll_data, unroll_labels\n",
        "\n",
        "    def reset_indices(self):\n",
        "        for b in range(self._batch_size):\n",
        "            self._cursor[b] = np.random.randint(0,min((b+1)*self._segments,self._prices_length-1))\n",
        "\n",
        "\n",
        "\n",
        "dg = DataGeneratorSeq(train_data,5,5)\n",
        "u_data, u_labels = dg.unroll_batches()\n",
        "\n",
        "for ui,(dat,lbl) in enumerate(zip(u_data,u_labels)):   \n",
        "    print('\\n\\nUnrolled index %d'%ui)\n",
        "    dat_ind = dat\n",
        "    lbl_ind = lbl\n",
        "    print('\\tInputs: ',dat )\n",
        "    print('\\n\\tOutput:',lbl)\n"
      ],
      "execution_count": 17,
      "outputs": [
        {
          "output_type": "stream",
          "text": [
            "\n",
            "\n",
            "Unrolled index 0\n",
            "\tInputs:  [0.03767911 0.58830804 0.5755851  0.38477522 0.5875039 ]\n",
            "\n",
            "\tOutput: [0.13201785 0.5935842  0.58228415 0.38477522 0.59577143]\n",
            "\n",
            "\n",
            "Unrolled index 1\n",
            "\tInputs:  [0.07168027 0.5888167  0.57898223 0.3859211  0.5897172 ]\n",
            "\n",
            "\tOutput: [0.18009323 0.5968175  0.58228415 0.38664472 0.5977551 ]\n",
            "\n",
            "\n",
            "Unrolled index 2\n",
            "\tInputs:  [0.10326442 0.59039253 0.58228415 0.38664472 0.5919654 ]\n",
            "\n",
            "\tOutput: [0.15764534 0.5935842  0.59082437 0.39493084 0.5919654 ]\n",
            "\n",
            "\n",
            "Unrolled index 3\n",
            "\tInputs:  [0.13201785 0.5935842  0.5853875  0.38817886 0.59384185]\n",
            "\n",
            "\tOutput: [0.20109951 0.5990968  0.59082437 0.39711466 0.60334325]\n",
            "\n",
            "\n",
            "Unrolled index 4\n",
            "\tInputs:  [0.15764534 0.59582704 0.5882728  0.39050433 0.59577143]\n",
            "\n",
            "\tOutput: [0.18009323 0.5968175  0.5981146  0.39493084 0.60553104]\n"
          ],
          "name": "stdout"
        }
      ]
    },
    {
      "cell_type": "markdown",
      "metadata": {
        "id": "Oz9a606Tsjlg",
        "colab_type": "text"
      },
      "source": [
        "###Defining Hyperparameters"
      ]
    },
    {
      "cell_type": "markdown",
      "metadata": {
        "id": "IDR_10k9synf",
        "colab_type": "text"
      },
      "source": [
        "In this section, you'll define several hyperparameters. **D** is the dimensionality of the input. It's straightforward, as you take the previous stock price as the input and predict the next one, which should be **1**.\n",
        "\n",
        "Then you have **num_unrollings**, this is a hyperparameter related to the backpropagation through time (BPTT) that is used to optimize the LSTM model. This denotes how many continuous time steps you consider for a single optimization step. You can think of this as, instead of optimizing the model by looking at a single time step, you optimize the network by looking at **num_unrollings** time steps. The larger the better.\n",
        "\n",
        "Then you have the **batch_size**. Batch size is how many data samples you consider in a single time step.\n",
        "\n",
        "Next you define **num_nodes** which represents the number of hidden neurons in each cell. You can see that there are three layers of LSTMs in this example."
      ]
    },
    {
      "cell_type": "code",
      "metadata": {
        "id": "75386bdWlTmb",
        "colab_type": "code",
        "colab": {
          "base_uri": "https://localhost:8080/",
          "height": 35
        },
        "outputId": "653ad44d-cd1b-4e44-f4c9-ce6d117bb3e0"
      },
      "source": [
        "D = 1 # Dimensionality of the data. Since your data is 1-D this would be 1\n",
        "num_unrollings = 50 # Number of time steps you look into the future.\n",
        "batch_size = 500 # Number of samples in a batch\n",
        "num_nodes = [200,200,150] # Number of hidden nodes in each layer of the deep LSTM stack we're using\n",
        "n_layers = len(num_nodes) # number of layers\n",
        "dropout = 0.2 # dropout amount\n",
        "\n",
        "tf.get_default_graph # This is important in case you run this multiple times"
      ],
      "execution_count": 18,
      "outputs": [
        {
          "output_type": "execute_result",
          "data": {
            "text/plain": [
              "<function tensorflow.python.framework.ops.get_default_graph>"
            ]
          },
          "metadata": {
            "tags": []
          },
          "execution_count": 18
        }
      ]
    },
    {
      "cell_type": "markdown",
      "metadata": {
        "id": "TNhGulCtv26W",
        "colab_type": "text"
      },
      "source": [
        "###Defining Inputs and Outputs"
      ]
    },
    {
      "cell_type": "markdown",
      "metadata": {
        "id": "6rQZSA01v9E0",
        "colab_type": "text"
      },
      "source": [
        "Next you define placeholders for training inputs and labels. This is very straightforward as you have a list of input placeholders, where each placeholder contains a single batch of data. And the list has **num_unrollings** placeholders, that will be used at once for a single optimization step."
      ]
    },
    {
      "cell_type": "code",
      "metadata": {
        "id": "NolHMWAvsoEE",
        "colab_type": "code",
        "colab": {}
      },
      "source": [
        "# import tensorflow.compat.v1 as tf\n",
        "# tf.disable_v2_behavior()\n",
        "# Input data.\n",
        "train_inputs, train_outputs = [],[]\n",
        "\n",
        "# You unroll the input over time defining placeholders for each time step\n",
        "for ui in range(num_unrollings):\n",
        "    train_inputs.append(tf.placeholder(tf.float32, shape=[batch_size,D],name='train_inputs_%d'%ui))\n",
        "    train_outputs.append(tf.placeholder(tf.float32, shape=[batch_size,1], name = 'train_outputs_%d'%ui))"
      ],
      "execution_count": 19,
      "outputs": []
    },
    {
      "cell_type": "markdown",
      "metadata": {
        "id": "Btxqrp46zR8h",
        "colab_type": "text"
      },
      "source": [
        "###Defining Parameters of the LSTM and Regression layer"
      ]
    },
    {
      "cell_type": "markdown",
      "metadata": {
        "id": "Dc-yE0A2zZKh",
        "colab_type": "text"
      },
      "source": [
        "You will have a three layers of LSTMs and a linear regression layer, denoted by **w** and **b**, that takes the output of the last Long Short-Term Memory cell and output the prediction for the next time step. You can use the **MultiRNNCell** in TensorFlow to encapsulate the three **LSTMCell** objects you created. Additionally, you can have the dropout implemented LSTM cells, as they improve performance and reduce overfitting."
      ]
    },
    {
      "cell_type": "code",
      "metadata": {
        "id": "eLR24AEasoBQ",
        "colab_type": "code",
        "colab": {}
      },
      "source": [
        "lstm_cells = [\n",
        "    tf.contrib.rnn.LSTMCell(num_units=num_nodes[li],\n",
        "                            state_is_tuple=True,\n",
        "                            initializer= tf.contrib.layers.xavier_initializer()\n",
        "                           )\n",
        " for li in range(n_layers)]\n",
        "\n",
        "drop_lstm_cells = [tf.contrib.rnn.DropoutWrapper(\n",
        "    lstm, input_keep_prob=1.0,output_keep_prob=1.0-dropout, state_keep_prob=1.0-dropout\n",
        ") for lstm in lstm_cells]\n",
        "drop_multi_cell = tf.contrib.rnn.MultiRNNCell(drop_lstm_cells)\n",
        "multi_cell = tf.contrib.rnn.MultiRNNCell(lstm_cells)\n",
        "\n",
        "w = tf.get_variable('w',shape=[num_nodes[-1], 1], initializer=tf.contrib.layers.xavier_initializer())\n",
        "b = tf.get_variable('b',initializer=tf.random_uniform([1],-0.1,0.1))"
      ],
      "execution_count": 20,
      "outputs": []
    },
    {
      "cell_type": "markdown",
      "metadata": {
        "id": "Tj7i84Ra3kXY",
        "colab_type": "text"
      },
      "source": [
        "###Calculating LSTM output and Feeding it to the regression layer to get final prediction"
      ]
    },
    {
      "cell_type": "markdown",
      "metadata": {
        "id": "TLbATwUkEcvm",
        "colab_type": "text"
      },
      "source": [
        "In this section, you first create TensorFlow variables (**c** and **h**) that will hold the cell state and the hidden state of the Long Short-Term Memory cell. Then you transform the list of **train_inputs** to have a shape of [**num_unrollings, batch_size, D**], this is needed for calculating the outputs with the **tf.nn.dynamic_rnn** function. You then calculate the LSTM outputs with the **tf.nn.dynamic_rnn** function and split the output back to a list of **num_unrolling** tensors. the loss between the predictions and true stock prices."
      ]
    },
    {
      "cell_type": "code",
      "metadata": {
        "id": "yTW_18sZsn3T",
        "colab_type": "code",
        "colab": {}
      },
      "source": [
        "# Create cell state and hidden state variables to maintain the state of the LSTM\n",
        "c, h = [],[]\n",
        "initial_state = []\n",
        "for li in range(n_layers):\n",
        "  c.append(tf.Variable(tf.zeros([batch_size, num_nodes[li]]), trainable=False))\n",
        "  h.append(tf.Variable(tf.zeros([batch_size, num_nodes[li]]), trainable=False))\n",
        "  initial_state.append(tf.contrib.rnn.LSTMStateTuple(c[li], h[li]))\n",
        "\n",
        "# Do several tensor transofmations, because the function dynamic_rnn requires the output to be of\n",
        "# a specific format. Read more at: https://www.tensorflow.org/api_docs/python/tf/nn/dynamic_rnn\n",
        "all_inputs = tf.concat([tf.expand_dims(t,0) for t in train_inputs],axis=0)\n",
        "\n",
        "# all_outputs is [seq_length, batch_size, num_nodes]\n",
        "all_lstm_outputs, state = tf.nn.dynamic_rnn(\n",
        "    drop_multi_cell, all_inputs, initial_state=tuple(initial_state),\n",
        "    time_major = True, dtype=tf.float32)\n",
        "\n",
        "all_lstm_outputs = tf.reshape(all_lstm_outputs, [batch_size*num_unrollings,num_nodes[-1]])\n",
        "\n",
        "all_outputs = tf.nn.xw_plus_b(all_lstm_outputs,w,b)\n",
        "\n",
        "split_outputs = tf.split(all_outputs,num_unrollings,axis=0)"
      ],
      "execution_count": 22,
      "outputs": []
    },
    {
      "cell_type": "markdown",
      "metadata": {
        "id": "bgBconloFloU",
        "colab_type": "text"
      },
      "source": [
        "###Loss Calculation and Optimizer"
      ]
    },
    {
      "cell_type": "markdown",
      "metadata": {
        "id": "vBISOY2jFr3W",
        "colab_type": "text"
      },
      "source": [
        "Now, you'll calculate the loss. However, you should note that there is a unique characteristic when calculating the loss. For each batch of predictions and true outputs, you calculate the Mean Squared Error. And you sum (not average) all these mean squared losses together. Finally, you define the optimizer you're going to use to optimize the neural network. In this case, you can use Adam, which is a very recent and well-performing optimizer."
      ]
    },
    {
      "cell_type": "code",
      "metadata": {
        "id": "V-oufZBQ2S2I",
        "colab_type": "code",
        "colab": {
          "base_uri": "https://localhost:8080/",
          "height": 91
        },
        "outputId": "c84e6623-c0a4-4990-f47b-f7944d14acc4"
      },
      "source": [
        "# loss of all the unrolled steps at the same time\n",
        "# Therefore, take the mean error or each batch and get the sum of that over all the unrolled steps\n",
        "\n",
        "print('Defining training Loss')\n",
        "loss = 0.0\n",
        "with tf.control_dependencies([tf.assign(c[li], state[li][0]) for li in range(n_layers)]+\n",
        "                             [tf.assign(h[li], state[li][1]) for li in range(n_layers)]):\n",
        "  for ui in range(num_unrollings):\n",
        "    loss += tf.reduce_mean(0.5*(split_outputs[ui]-train_outputs[ui])**2)\n",
        "\n",
        "print('Learning rate decay operations')\n",
        "global_step = tf.Variable(0, trainable=False)\n",
        "inc_gstep = tf.assign(global_step,global_step + 1)\n",
        "tf_learning_rate = tf.placeholder(shape=None,dtype=tf.float32)\n",
        "tf_min_learning_rate = tf.placeholder(shape=None,dtype=tf.float32)\n",
        "\n",
        "learning_rate = tf.maximum(\n",
        "    tf.train.exponential_decay(tf_learning_rate, global_step, decay_steps=1, decay_rate=0.5, staircase=True),\n",
        "    tf_min_learning_rate)\n",
        "\n",
        "# Optimizer.\n",
        "print('TF Optimization operations')\n",
        "optimizer = tf.train.AdamOptimizer(learning_rate)\n",
        "gradients, v = zip(*optimizer.compute_gradients(loss))\n",
        "gradients, _ = tf.clip_by_global_norm(gradients, 5.0)\n",
        "optimizer = optimizer.apply_gradients(\n",
        "    zip(gradients, v))\n",
        "\n",
        "print('\\tAll done')"
      ],
      "execution_count": 23,
      "outputs": [
        {
          "output_type": "stream",
          "text": [
            "Defining training Loss\n",
            "Learning rate decay operations\n",
            "TF Optimization operations\n",
            "\tAll done\n"
          ],
          "name": "stdout"
        }
      ]
    },
    {
      "cell_type": "markdown",
      "metadata": {
        "id": "mjinoxotGKi6",
        "colab_type": "text"
      },
      "source": [
        "###Prediction Related Calculations"
      ]
    },
    {
      "cell_type": "markdown",
      "metadata": {
        "id": "nw8Y28LpGRiK",
        "colab_type": "text"
      },
      "source": [
        "Here you define the prediction related TensorFlow operations. First, define a placeholder for feeding in the input (**sample_inputs**), then similar to the training stage, you define state variables for prediction (**sample_c** and **sample_h**). Finally you calculate the prediction with the **tf.nn.dynamic_rnn** function and then sending the output through the regression layer (**w** and **b**). You also should define the **reset_sample_state** operation, which resets the cell state and the hidden state. You should execute this operation at the start, every time you make a sequence of predictions."
      ]
    },
    {
      "cell_type": "code",
      "metadata": {
        "id": "aBtg0Mon2Sx9",
        "colab_type": "code",
        "colab": {
          "base_uri": "https://localhost:8080/",
          "height": 54
        },
        "outputId": "59265a8b-d7de-430b-b760-8194ebaa4062"
      },
      "source": [
        "print('Defining prediction related TF functions')\n",
        "\n",
        "sample_inputs = tf.placeholder(tf.float32, shape=[1,D])\n",
        "\n",
        "# Maintaining LSTM state for prediction stage\n",
        "sample_c, sample_h, initial_sample_state = [],[],[]\n",
        "for li in range(n_layers):\n",
        "  sample_c.append(tf.Variable(tf.zeros([1, num_nodes[li]]), trainable=False))\n",
        "  sample_h.append(tf.Variable(tf.zeros([1, num_nodes[li]]), trainable=False))\n",
        "  initial_sample_state.append(tf.contrib.rnn.LSTMStateTuple(sample_c[li],sample_h[li]))\n",
        "\n",
        "reset_sample_states = tf.group(*[tf.assign(sample_c[li],tf.zeros([1, num_nodes[li]])) for li in range(n_layers)],\n",
        "                               *[tf.assign(sample_h[li],tf.zeros([1, num_nodes[li]])) for li in range(n_layers)])\n",
        "\n",
        "sample_outputs, sample_state = tf.nn.dynamic_rnn(multi_cell, tf.expand_dims(sample_inputs,0),\n",
        "                                   initial_state=tuple(initial_sample_state),\n",
        "                                   time_major = True,\n",
        "                                   dtype=tf.float32)\n",
        "\n",
        "with tf.control_dependencies([tf.assign(sample_c[li],sample_state[li][0]) for li in range(n_layers)]+\n",
        "                              [tf.assign(sample_h[li],sample_state[li][1]) for li in range(n_layers)]):  \n",
        "  sample_prediction = tf.nn.xw_plus_b(tf.reshape(sample_outputs,[1,-1]), w, b)\n",
        "\n",
        "print('\\tAll done')\n",
        "\n"
      ],
      "execution_count": 24,
      "outputs": [
        {
          "output_type": "stream",
          "text": [
            "Defining prediction related TF functions\n",
            "\tAll done\n"
          ],
          "name": "stdout"
        }
      ]
    },
    {
      "cell_type": "markdown",
      "metadata": {
        "id": "ksp5s01uG5_K",
        "colab_type": "text"
      },
      "source": [
        "###Running the LSTM"
      ]
    },
    {
      "cell_type": "code",
      "metadata": {
        "id": "2EtQDuiX2SqJ",
        "colab_type": "code",
        "colab": {}
      },
      "source": [
        ""
      ],
      "execution_count": null,
      "outputs": []
    },
    {
      "cell_type": "code",
      "metadata": {
        "id": "KBcWXFN5G-Iq",
        "colab_type": "code",
        "colab": {}
      },
      "source": [
        ""
      ],
      "execution_count": null,
      "outputs": []
    },
    {
      "cell_type": "code",
      "metadata": {
        "id": "Xo0hNG1fG-E5",
        "colab_type": "code",
        "colab": {}
      },
      "source": [
        ""
      ],
      "execution_count": null,
      "outputs": []
    },
    {
      "cell_type": "code",
      "metadata": {
        "id": "18Ov3Oq5G-Bl",
        "colab_type": "code",
        "colab": {}
      },
      "source": [
        ""
      ],
      "execution_count": null,
      "outputs": []
    },
    {
      "cell_type": "code",
      "metadata": {
        "id": "9B673LuRG9-4",
        "colab_type": "code",
        "colab": {}
      },
      "source": [
        ""
      ],
      "execution_count": null,
      "outputs": []
    },
    {
      "cell_type": "code",
      "metadata": {
        "id": "eBT6cnXUG978",
        "colab_type": "code",
        "colab": {}
      },
      "source": [
        ""
      ],
      "execution_count": null,
      "outputs": []
    },
    {
      "cell_type": "code",
      "metadata": {
        "id": "7_gd4MTXG93l",
        "colab_type": "code",
        "colab": {}
      },
      "source": [
        ""
      ],
      "execution_count": null,
      "outputs": []
    },
    {
      "cell_type": "code",
      "metadata": {
        "id": "QifVGs0ZG9zp",
        "colab_type": "code",
        "colab": {}
      },
      "source": [
        ""
      ],
      "execution_count": null,
      "outputs": []
    },
    {
      "cell_type": "code",
      "metadata": {
        "id": "zyLeeUxVlTit",
        "colab_type": "code",
        "colab": {}
      },
      "source": [
        ""
      ],
      "execution_count": 21,
      "outputs": []
    },
    {
      "cell_type": "code",
      "metadata": {
        "id": "jAQOE5DZjotT",
        "colab_type": "code",
        "colab": {}
      },
      "source": [
        ""
      ],
      "execution_count": 21,
      "outputs": []
    },
    {
      "cell_type": "code",
      "metadata": {
        "id": "ShQp9OrpeJOQ",
        "colab_type": "code",
        "colab": {}
      },
      "source": [
        ""
      ],
      "execution_count": 21,
      "outputs": []
    },
    {
      "cell_type": "code",
      "metadata": {
        "id": "ydQsCX6keJKc",
        "colab_type": "code",
        "colab": {}
      },
      "source": [
        ""
      ],
      "execution_count": 21,
      "outputs": []
    },
    {
      "cell_type": "code",
      "metadata": {
        "id": "PQSaKZAHT4-H",
        "colab_type": "code",
        "colab": {}
      },
      "source": [
        ""
      ],
      "execution_count": 21,
      "outputs": []
    }
  ]
}