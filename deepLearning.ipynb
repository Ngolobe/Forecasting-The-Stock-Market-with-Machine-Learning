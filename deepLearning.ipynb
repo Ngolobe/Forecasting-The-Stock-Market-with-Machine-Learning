{
  "nbformat": 4,
  "nbformat_minor": 0,
  "metadata": {
    "colab": {
      "name": "deepLearning.ipynb",
      "provenance": [],
      "collapsed_sections": [],
      "authorship_tag": "ABX9TyNmmA9qjhp9C+AaPkNMeMMj",
      "include_colab_link": true
    },
    "kernelspec": {
      "name": "python3",
      "display_name": "Python 3"
    }
  },
  "cells": [
    {
      "cell_type": "markdown",
      "metadata": {
        "id": "view-in-github",
        "colab_type": "text"
      },
      "source": [
        "<a href=\"https://colab.research.google.com/github/Ngolobe/Forecasting-The-Stock-Market-with-Machine-Learning/blob/master/deepLearning.ipynb\" target=\"_parent\"><img src=\"https://colab.research.google.com/assets/colab-badge.svg\" alt=\"Open In Colab\"/></a>"
      ]
    },
    {
      "cell_type": "code",
      "metadata": {
        "id": "6wUUoSLhTq53",
        "colab_type": "code",
        "colab": {
          "base_uri": "https://localhost:8080/",
          "height": 74
        },
        "outputId": "aee29dd8-f3f2-4e6b-8dea-13bc7f1d606a"
      },
      "source": [
        "# Make sure that you have all these libaries available to run the code successfully\n",
        "from pandas_datareader import data\n",
        "import matplotlib.pyplot as plt\n",
        "import pandas as pd\n",
        "import datetime as dt\n",
        "import urllib.request, json\n",
        "import os\n",
        "import numpy as np\n",
        "import tensorflow as tf # This code has been tested with TensorFlow 1.6\n",
        "from sklearn.preprocessing import MinMaxScaler"
      ],
      "execution_count": 1,
      "outputs": [
        {
          "output_type": "stream",
          "text": [
            "/usr/local/lib/python3.6/dist-packages/pandas_datareader/compat/__init__.py:7: FutureWarning: pandas.util.testing is deprecated. Use the functions in the public API at pandas.testing instead.\n",
            "  from pandas.util.testing import assert_frame_equal\n"
          ],
          "name": "stderr"
        }
      ]
    },
    {
      "cell_type": "markdown",
      "metadata": {
        "id": "U1IawIRjT-fB",
        "colab_type": "text"
      },
      "source": [
        "## Downloading the Data\n"
      ]
    },
    {
      "cell_type": "code",
      "metadata": {
        "id": "z2vsPV8ZT4o-",
        "colab_type": "code",
        "colab": {}
      },
      "source": [
        ""
      ],
      "execution_count": null,
      "outputs": []
    },
    {
      "cell_type": "code",
      "metadata": {
        "scrolled": true,
        "id": "zQyBnTkqTIjk",
        "colab_type": "code",
        "colab": {
          "base_uri": "https://localhost:8080/",
          "height": 238
        },
        "outputId": "d2ca2d1e-392d-4bd5-8e45-99a067f150bb"
      },
      "source": [
        "# Define the instruments to download. We would like to see the S&P500 index.\n",
        "ticker = '^GSPC'\n",
        "\n",
        "# We would like all available data from 01/01/1971 until 12/31/2019.\n",
        "start_date = '1971-01-01'\n",
        "end_date = '2019-12-31'\n",
        "\n",
        "# Use pandas_reader.data.DataReader to load the desired data. \n",
        "df = data.DataReader('^GSPC', 'yahoo', start_date, end_date)\n",
        "df.head()"
      ],
      "execution_count": 36,
      "outputs": [
        {
          "output_type": "execute_result",
          "data": {
            "text/html": [
              "<div>\n",
              "<style scoped>\n",
              "    .dataframe tbody tr th:only-of-type {\n",
              "        vertical-align: middle;\n",
              "    }\n",
              "\n",
              "    .dataframe tbody tr th {\n",
              "        vertical-align: top;\n",
              "    }\n",
              "\n",
              "    .dataframe thead th {\n",
              "        text-align: right;\n",
              "    }\n",
              "</style>\n",
              "<table border=\"1\" class=\"dataframe\">\n",
              "  <thead>\n",
              "    <tr style=\"text-align: right;\">\n",
              "      <th></th>\n",
              "      <th>High</th>\n",
              "      <th>Low</th>\n",
              "      <th>Open</th>\n",
              "      <th>Close</th>\n",
              "      <th>Volume</th>\n",
              "      <th>Adj Close</th>\n",
              "    </tr>\n",
              "    <tr>\n",
              "      <th>Date</th>\n",
              "      <th></th>\n",
              "      <th></th>\n",
              "      <th></th>\n",
              "      <th></th>\n",
              "      <th></th>\n",
              "      <th></th>\n",
              "    </tr>\n",
              "  </thead>\n",
              "  <tbody>\n",
              "    <tr>\n",
              "      <th>1971-01-04</th>\n",
              "      <td>92.190002</td>\n",
              "      <td>90.639999</td>\n",
              "      <td>92.150002</td>\n",
              "      <td>91.150002</td>\n",
              "      <td>10010000</td>\n",
              "      <td>91.150002</td>\n",
              "    </tr>\n",
              "    <tr>\n",
              "      <th>1971-01-05</th>\n",
              "      <td>92.279999</td>\n",
              "      <td>90.690002</td>\n",
              "      <td>91.150002</td>\n",
              "      <td>91.800003</td>\n",
              "      <td>12600000</td>\n",
              "      <td>91.800003</td>\n",
              "    </tr>\n",
              "    <tr>\n",
              "      <th>1971-01-06</th>\n",
              "      <td>93.000000</td>\n",
              "      <td>91.500000</td>\n",
              "      <td>91.800003</td>\n",
              "      <td>92.349998</td>\n",
              "      <td>16960000</td>\n",
              "      <td>92.349998</td>\n",
              "    </tr>\n",
              "    <tr>\n",
              "      <th>1971-01-07</th>\n",
              "      <td>93.260002</td>\n",
              "      <td>91.750000</td>\n",
              "      <td>92.349998</td>\n",
              "      <td>92.379997</td>\n",
              "      <td>16460000</td>\n",
              "      <td>92.379997</td>\n",
              "    </tr>\n",
              "    <tr>\n",
              "      <th>1971-01-08</th>\n",
              "      <td>93.019997</td>\n",
              "      <td>91.599998</td>\n",
              "      <td>92.379997</td>\n",
              "      <td>92.190002</td>\n",
              "      <td>14100000</td>\n",
              "      <td>92.190002</td>\n",
              "    </tr>\n",
              "  </tbody>\n",
              "</table>\n",
              "</div>"
            ],
            "text/plain": [
              "                 High        Low       Open      Close    Volume  Adj Close\n",
              "Date                                                                       \n",
              "1971-01-04  92.190002  90.639999  92.150002  91.150002  10010000  91.150002\n",
              "1971-01-05  92.279999  90.690002  91.150002  91.800003  12600000  91.800003\n",
              "1971-01-06  93.000000  91.500000  91.800003  92.349998  16960000  92.349998\n",
              "1971-01-07  93.260002  91.750000  92.349998  92.379997  16460000  92.379997\n",
              "1971-01-08  93.019997  91.599998  92.379997  92.190002  14100000  92.190002"
            ]
          },
          "metadata": {
            "tags": []
          },
          "execution_count": 36
        }
      ]
    },
    {
      "cell_type": "code",
      "metadata": {
        "id": "NvoDWZw_Y4rS",
        "colab_type": "code",
        "colab": {}
      },
      "source": [
        "df = df.reset_index()"
      ],
      "execution_count": 41,
      "outputs": []
    },
    {
      "cell_type": "code",
      "metadata": {
        "id": "hzTPiuj0ZOd0",
        "colab_type": "code",
        "colab": {}
      },
      "source": [
        ""
      ],
      "execution_count": 25,
      "outputs": []
    },
    {
      "cell_type": "code",
      "metadata": {
        "id": "F7kReLzWZ64Q",
        "colab_type": "code",
        "colab": {
          "base_uri": "https://localhost:8080/",
          "height": 35
        },
        "outputId": "5b8fd336-18f7-41e9-d162-6d3858558ee8"
      },
      "source": [
        "df.columns"
      ],
      "execution_count": 43,
      "outputs": [
        {
          "output_type": "execute_result",
          "data": {
            "text/plain": [
              "Index(['Date', 'High', 'Low', 'Open', 'Close', 'Volume', 'Adj Close'], dtype='object')"
            ]
          },
          "metadata": {
            "tags": []
          },
          "execution_count": 43
        }
      ]
    },
    {
      "cell_type": "markdown",
      "metadata": {
        "id": "heXt79ttUu8t",
        "colab_type": "text"
      },
      "source": [
        "##Data Exploration and Visualization"
      ]
    },
    {
      "cell_type": "code",
      "metadata": {
        "id": "d2aTqbNbT43i",
        "colab_type": "code",
        "colab": {
          "base_uri": "https://localhost:8080/",
          "height": 631
        },
        "outputId": "7a1477f0-69b4-45e6-c4bc-e0c189d45497"
      },
      "source": [
        "plt.figure(figsize = (18,9))\n",
        "plt.plot(range(df.shape[0]),(df['Low']+df['High'])/2.0)\n",
        "plt.xticks(range(0,df.shape[0],500),df['Date'].loc[::500],rotation=45)\n",
        "plt.xlabel('Date',fontsize=18)\n",
        "plt.ylabel('Mid Price',fontsize=18)\n",
        "plt.show()"
      ],
      "execution_count": 44,
      "outputs": [
        {
          "output_type": "display_data",
          "data": {
            "image/png": "[encoded data removed]",
            "text/plain": [
              "<Figure size 1296x648 with 1 Axes>"
            ]
          },
          "metadata": {
            "tags": [],
            "needs_background": "light"
          }
        }
      ]
    },
    {
      "cell_type": "markdown",
      "metadata": {
        "id": "GLrJrfdTWuEo",
        "colab_type": "text"
      },
      "source": [
        "##Splitting Data into a Training set and a Test set"
      ]
    },
    {
      "cell_type": "code",
      "metadata": {
        "id": "w58Q4H6IT5K2",
        "colab_type": "code",
        "colab": {}
      },
      "source": [
        "# First calculate the mid prices from the highest and lowest\n",
        "high_prices = df.loc[:,'High'].to_numpy()\n",
        "low_prices = df.loc[:,'Low'].to_numpy()\n",
        "mid_prices = (high_prices+low_prices)/2.0"
      ],
      "execution_count": 7,
      "outputs": []
    },
    {
      "cell_type": "code",
      "metadata": {
        "id": "aLlDyhGrT5HA",
        "colab_type": "code",
        "colab": {}
      },
      "source": [
        "train_data = mid_prices[:11000]\n",
        "test_data = mid_prices[11000:]"
      ],
      "execution_count": 45,
      "outputs": []
    },
    {
      "cell_type": "code",
      "metadata": {
        "id": "slGyNCDieEB1",
        "colab_type": "code",
        "colab": {}
      },
      "source": [
        ""
      ],
      "execution_count": null,
      "outputs": []
    },
    {
      "cell_type": "markdown",
      "metadata": {
        "id": "mUNc4EGYeEOe",
        "colab_type": "text"
      },
      "source": [
        "##Normalizing the Data"
      ]
    },
    {
      "cell_type": "markdown",
      "metadata": {
        "id": "e-zNgvWyeadN",
        "colab_type": "text"
      },
      "source": [
        "Now you need to define a scaler to normalize the data. MinMaxScalar scales all the data to be in the region of 0 and 1. You can also reshape the training and test data to be in the shape [data_size, num_features]."
      ]
    },
    {
      "cell_type": "code",
      "metadata": {
        "id": "vRIqBPAkT5ED",
        "colab_type": "code",
        "colab": {}
      },
      "source": [
        "# Scale the data to be between 0 and 1\n",
        "# When scaling remember! You normalize both test and train data with respect to training data\n",
        "# Because you are not supposed to have access to test data\n",
        "scaler = MinMaxScaler()\n",
        "train_data = train_data.reshape(-1,1)\n",
        "test_data = test_data.reshape(-1,1)"
      ],
      "execution_count": 46,
      "outputs": []
    },
    {
      "cell_type": "markdown",
      "metadata": {
        "id": "TsVJP5Qfei1W",
        "colab_type": "text"
      },
      "source": [
        "Due to the observation you made earlier, that is, different time periods of data have different value ranges, you normalize the data by splitting the full series into windows. If you don't do this, the earlier data will be close to 0 and will not add much value to the learning process. Here you choose a window size of 2500.\n",
        "\n",
        "Tip: when choosing the window size make sure it's not too small, because when you perform windowed-normalization, it can introduce a break at the very end of each window, as each window is normalized independently.\n",
        "\n",
        "In this example, 4 data points will be affected by this. But given you have 11,000 data points, 4 points will not cause any issue"
      ]
    },
    {
      "cell_type": "code",
      "metadata": {
        "id": "MmSsde8OehT7",
        "colab_type": "code",
        "colab": {}
      },
      "source": [
        "# Train the Scaler with training data and smooth data\n",
        "smoothing_window_size = 2500\n",
        "for di in range(0,10000,smoothing_window_size):\n",
        "    scaler.fit(train_data[di:di+smoothing_window_size,:])\n",
        "    train_data[di:di+smoothing_window_size,:] = scaler.transform(train_data[di:di+smoothing_window_size,:])\n",
        "\n",
        "# You normalize the last bit of remaining data\n",
        "scaler.fit(train_data[di+smoothing_window_size:,:])\n",
        "train_data[di+smoothing_window_size:,:] = scaler.transform(train_data[di+smoothing_window_size:,:])"
      ],
      "execution_count": 47,
      "outputs": []
    },
    {
      "cell_type": "markdown",
      "metadata": {
        "id": "yU7oOOfDfQSM",
        "colab_type": "text"
      },
      "source": [
        "Reshape the data back to the shape of [data_size]"
      ]
    },
    {
      "cell_type": "code",
      "metadata": {
        "id": "aE9WYxnveJZe",
        "colab_type": "code",
        "colab": {}
      },
      "source": [
        "# Reshape both train and test data\n",
        "train_data = train_data.reshape(-1)\n",
        "\n",
        "# Normalize test data\n",
        "test_data = scaler.transform(test_data).reshape(-1)"
      ],
      "execution_count": 48,
      "outputs": []
    },
    {
      "cell_type": "markdown",
      "metadata": {
        "id": "HZXT2Denf8lW",
        "colab_type": "text"
      },
      "source": [
        "You can now smooth the data using the exponential moving average. This helps you to get rid of the inherent raggedness of the data in stock prices and produce a smoother curve.\n",
        "\n",
        "Note that you should only smooth training data."
      ]
    },
    {
      "cell_type": "code",
      "metadata": {
        "id": "3y1c75yceJUr",
        "colab_type": "code",
        "colab": {}
      },
      "source": [
        "# Now perform exponential moving average smoothing\n",
        "# So the data will have a smoother curve than the original ragged data\n",
        "EMA = 0.0\n",
        "gamma = 0.1\n",
        "for ti in range(11000):\n",
        "  EMA = gamma*train_data[ti] + (1-gamma)*EMA\n",
        "  train_data[ti] = EMA\n",
        "\n",
        "# Used for visualization and test purposes\n",
        "all_mid_data = np.concatenate([train_data,test_data],axis=0)"
      ],
      "execution_count": 49,
      "outputs": []
    },
    {
      "cell_type": "markdown",
      "metadata": {
        "id": "ocYlQVkLgN9W",
        "colab_type": "text"
      },
      "source": [
        "##One-Step Ahead Prediction via Averaging"
      ]
    },
    {
      "cell_type": "markdown",
      "metadata": {
        "id": "CclakBliglu-",
        "colab_type": "text"
      },
      "source": [
        "Averaging mechanisms allow you to predict (often one time step ahead) by representing the future stock price as an average of the previously observed stock prices. Doing this for more than one time step can produce quite bad results. You will look at two averaging techniques below; standard averaging and exponential moving average. You will evaluate both qualitatively (visual inspection) and quantitatively (Mean Squared Error) the results produced by the two algorithms.\n",
        "\n",
        "The Mean Squared Error (MSE) can be calculated by taking the Squared Error between the true value at one step ahead and the predicted value and averaging it over all the predictions."
      ]
    },
    {
      "cell_type": "markdown",
      "metadata": {
        "id": "8co4biM_g8Hm",
        "colab_type": "text"
      },
      "source": [
        "###Standard Average"
      ]
    },
    {
      "cell_type": "markdown",
      "metadata": {
        "id": "Ohr3o86chC1A",
        "colab_type": "text"
      },
      "source": [
        "You can understand the difficulty of this problem by first trying to model this as an average calculation problem. First you will try to predict the future stock market prices (for example, xt+1 ) as an average of the previously observed stock market prices within a fixed size window (for example, xt-N, ..., xt) (say previous 100 days). Thereafter you will try a bit more fancier \"exponential moving average\" method and see how well that does. Then you will move on to the \"holy-grail\" of time-series prediction; Long Short-Term Memory models.\n",
        "\n",
        "First you will see how normal averaging works. That is you say,\n",
        " $$ x_{t+1}=\\frac{1}{N}\\sum_{i=t-N}^{t} x_{i}$$\n",
        "In other words, you say the prediction at t+1\n",
        "is the average value of all the stock prices you observed within a window of t to t−N."
      ]
    },
    {
      "cell_type": "code",
      "metadata": {
        "id": "g58QHGK8gRYk",
        "colab_type": "code",
        "colab": {
          "base_uri": "https://localhost:8080/",
          "height": 35
        },
        "outputId": "70436e1f-c271-4ec9-dee6-0791b1eb8e84"
      },
      "source": [
        "window_size = 100\n",
        "N = train_data.size\n",
        "std_avg_predictions = []\n",
        "std_avg_x = []\n",
        "mse_errors = []\n",
        "\n",
        "for pred_idx in range(window_size,N):\n",
        "\n",
        "    if pred_idx >= N:\n",
        "        date = dt.datetime.strptime(k, '%Y-%m-%d').date() + dt.timedelta(days=1)\n",
        "    else:\n",
        "        date = df.loc[pred_idx,'Date']\n",
        "\n",
        "    std_avg_predictions.append(np.mean(train_data[pred_idx-window_size:pred_idx]))\n",
        "    mse_errors.append((std_avg_predictions[-1]-train_data[pred_idx])**2)\n",
        "    std_avg_x.append(date)\n",
        "\n",
        "print('MSE error for standard averaging: %.5f'%(0.5*np.mean(mse_errors)))"
      ],
      "execution_count": 51,
      "outputs": [
        {
          "output_type": "stream",
          "text": [
            "MSE error for standard averaging: 0.00372\n"
          ],
          "name": "stdout"
        }
      ]
    },
    {
      "cell_type": "markdown",
      "metadata": {
        "id": "4zZtrk0tjl_Y",
        "colab_type": "text"
      },
      "source": [
        "Take a look at the averaged results below. It follows the actual behavior of stock quite closely. Next, you will look at a more accurate one-step prediction method."
      ]
    },
    {
      "cell_type": "code",
      "metadata": {
        "id": "dGJptq0PgMRC",
        "colab_type": "code",
        "colab": {}
      },
      "source": [
        ""
      ],
      "execution_count": null,
      "outputs": []
    },
    {
      "cell_type": "code",
      "metadata": {
        "id": "KPjrAOZdjonA",
        "colab_type": "code",
        "colab": {}
      },
      "source": [
        ""
      ],
      "execution_count": null,
      "outputs": []
    },
    {
      "cell_type": "code",
      "metadata": {
        "id": "121xZ44Cjoze",
        "colab_type": "code",
        "colab": {}
      },
      "source": [
        ""
      ],
      "execution_count": null,
      "outputs": []
    },
    {
      "cell_type": "code",
      "metadata": {
        "id": "NGhDvgIRjoxA",
        "colab_type": "code",
        "colab": {}
      },
      "source": [
        ""
      ],
      "execution_count": null,
      "outputs": []
    },
    {
      "cell_type": "code",
      "metadata": {
        "id": "jAQOE5DZjotT",
        "colab_type": "code",
        "colab": {}
      },
      "source": [
        ""
      ],
      "execution_count": null,
      "outputs": []
    },
    {
      "cell_type": "code",
      "metadata": {
        "id": "ShQp9OrpeJOQ",
        "colab_type": "code",
        "colab": {}
      },
      "source": [
        ""
      ],
      "execution_count": null,
      "outputs": []
    },
    {
      "cell_type": "code",
      "metadata": {
        "id": "ydQsCX6keJKc",
        "colab_type": "code",
        "colab": {}
      },
      "source": [
        ""
      ],
      "execution_count": null,
      "outputs": []
    },
    {
      "cell_type": "code",
      "metadata": {
        "id": "PQSaKZAHT4-H",
        "colab_type": "code",
        "colab": {}
      },
      "source": [
        ""
      ],
      "execution_count": null,
      "outputs": []
    }
  ]
}