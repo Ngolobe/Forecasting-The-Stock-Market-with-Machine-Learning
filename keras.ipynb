{
  "nbformat": 4,
  "nbformat_minor": 0,
  "metadata": {
    "colab": {
      "name": "keras",
      "provenance": [],
      "collapsed_sections": [],
      "authorship_tag": "ABX9TyMHCB1Z6MmBBoc7Yx1Ont8L",
      "include_colab_link": true
    },
    "kernelspec": {
      "name": "python3",
      "display_name": "Python 3"
    },
    "accelerator": "GPU"
  },
  "cells": [
    {
      "cell_type": "markdown",
      "metadata": {
        "id": "view-in-github",
        "colab_type": "text"
      },
      "source": [
        "<a href=\"https://colab.research.google.com/github/Ngolobe/Forecasting-The-Stock-Market-with-Machine-Learning/blob/master/keras.ipynb\" target=\"_parent\"><img src=\"https://colab.research.google.com/assets/colab-badge.svg\" alt=\"Open In Colab\"/></a>"
      ]
    },
    {
      "cell_type": "code",
      "metadata": {
        "colab_type": "code",
        "id": "sXnDmXR7RDr2",
        "colab": {
          "base_uri": "https://localhost:8080/",
          "height": 35
        },
        "outputId": "732a8155-786a-471f-cdab-fce3e9b2bee2"
      },
      "source": [
        "%tensorflow_version 2.x\n",
        "import tensorflow as tf\n",
        "device_name = tf.test.gpu_device_name()\n",
        "if device_name != '/device:GPU:0':\n",
        "  raise SystemError('GPU device not found')\n",
        "print('Found GPU at: {}'.format(device_name))"
      ],
      "execution_count": 1,
      "outputs": [
        {
          "output_type": "stream",
          "text": [
            "Found GPU at: /device:GPU:0\n"
          ],
          "name": "stdout"
        }
      ]
    },
    {
      "cell_type": "markdown",
      "metadata": {
        "id": "pNOOoSFawZlq",
        "colab_type": "text"
      },
      "source": [
        "#Predicting The Stock Market"
      ]
    },
    {
      "cell_type": "markdown",
      "metadata": {
        "id": "CGrNFY1RwIO3",
        "colab_type": "text"
      },
      "source": [
        "Let's first import the necessary libraries!"
      ]
    },
    {
      "cell_type": "code",
      "metadata": {
        "id": "xQ-Omopbv2bl",
        "colab_type": "code",
        "colab": {
          "base_uri": "https://localhost:8080/",
          "height": 74
        },
        "outputId": "7b817c59-5714-4fad-ad64-e9a19bd724eb"
      },
      "source": [
        "from pandas_datareader import data\n",
        "import matplotlib.pyplot as plt\n",
        "import pandas as pd\n",
        "import numpy as np\n",
        "from datetime import datetime\n",
        "from sklearn.preprocessing import MinMaxScaler"
      ],
      "execution_count": 2,
      "outputs": [
        {
          "output_type": "stream",
          "text": [
            "/usr/local/lib/python3.6/dist-packages/pandas_datareader/compat/__init__.py:7: FutureWarning: pandas.util.testing is deprecated. Use the functions in the public API at pandas.testing instead.\n",
            "  from pandas.util.testing import assert_frame_equal\n"
          ],
          "name": "stderr"
        }
      ]
    },
    {
      "cell_type": "markdown",
      "metadata": {
        "id": "y20KAzmgwpYa",
        "colab_type": "text"
      },
      "source": [
        "#Getting The Data"
      ]
    },
    {
      "cell_type": "code",
      "metadata": {
        "scrolled": true,
        "id": "aJy-lf0svJlr",
        "colab_type": "code",
        "colab": {
          "base_uri": "https://localhost:8080/",
          "height": 206
        },
        "outputId": "62e9d921-0011-46f9-a24a-d927599cf5d1"
      },
      "source": [
        "# Define the instruments to download. We would like to see the S&P500 index.\n",
        "ticker = '^GSPC'\n",
        "\n",
        "# We would like all available data from 01/01/1971 until 12/31/2019.\n",
        "start_date = '1971-01-01'\n",
        "end_date = '2019-12-31'\n",
        "\n",
        "# Use pandas_reader.data.DataReader to load the desired data. \n",
        "df = data.DataReader('^GSPC', 'yahoo', start_date, end_date)\n",
        "df = df.reset_index()\n",
        "df.head()"
      ],
      "execution_count": 62,
      "outputs": [
        {
          "output_type": "execute_result",
          "data": {
            "text/html": [
              "<div>\n",
              "<style scoped>\n",
              "    .dataframe tbody tr th:only-of-type {\n",
              "        vertical-align: middle;\n",
              "    }\n",
              "\n",
              "    .dataframe tbody tr th {\n",
              "        vertical-align: top;\n",
              "    }\n",
              "\n",
              "    .dataframe thead th {\n",
              "        text-align: right;\n",
              "    }\n",
              "</style>\n",
              "<table border=\"1\" class=\"dataframe\">\n",
              "  <thead>\n",
              "    <tr style=\"text-align: right;\">\n",
              "      <th></th>\n",
              "      <th>Date</th>\n",
              "      <th>High</th>\n",
              "      <th>Low</th>\n",
              "      <th>Open</th>\n",
              "      <th>Close</th>\n",
              "      <th>Volume</th>\n",
              "      <th>Adj Close</th>\n",
              "    </tr>\n",
              "  </thead>\n",
              "  <tbody>\n",
              "    <tr>\n",
              "      <th>0</th>\n",
              "      <td>1971-01-04</td>\n",
              "      <td>92.190002</td>\n",
              "      <td>90.639999</td>\n",
              "      <td>92.150002</td>\n",
              "      <td>91.150002</td>\n",
              "      <td>10010000</td>\n",
              "      <td>91.150002</td>\n",
              "    </tr>\n",
              "    <tr>\n",
              "      <th>1</th>\n",
              "      <td>1971-01-05</td>\n",
              "      <td>92.279999</td>\n",
              "      <td>90.690002</td>\n",
              "      <td>91.150002</td>\n",
              "      <td>91.800003</td>\n",
              "      <td>12600000</td>\n",
              "      <td>91.800003</td>\n",
              "    </tr>\n",
              "    <tr>\n",
              "      <th>2</th>\n",
              "      <td>1971-01-06</td>\n",
              "      <td>93.000000</td>\n",
              "      <td>91.500000</td>\n",
              "      <td>91.800003</td>\n",
              "      <td>92.349998</td>\n",
              "      <td>16960000</td>\n",
              "      <td>92.349998</td>\n",
              "    </tr>\n",
              "    <tr>\n",
              "      <th>3</th>\n",
              "      <td>1971-01-07</td>\n",
              "      <td>93.260002</td>\n",
              "      <td>91.750000</td>\n",
              "      <td>92.349998</td>\n",
              "      <td>92.379997</td>\n",
              "      <td>16460000</td>\n",
              "      <td>92.379997</td>\n",
              "    </tr>\n",
              "    <tr>\n",
              "      <th>4</th>\n",
              "      <td>1971-01-08</td>\n",
              "      <td>93.019997</td>\n",
              "      <td>91.599998</td>\n",
              "      <td>92.379997</td>\n",
              "      <td>92.190002</td>\n",
              "      <td>14100000</td>\n",
              "      <td>92.190002</td>\n",
              "    </tr>\n",
              "  </tbody>\n",
              "</table>\n",
              "</div>"
            ],
            "text/plain": [
              "        Date       High        Low       Open      Close    Volume  Adj Close\n",
              "0 1971-01-04  92.190002  90.639999  92.150002  91.150002  10010000  91.150002\n",
              "1 1971-01-05  92.279999  90.690002  91.150002  91.800003  12600000  91.800003\n",
              "2 1971-01-06  93.000000  91.500000  91.800003  92.349998  16960000  92.349998\n",
              "3 1971-01-07  93.260002  91.750000  92.349998  92.379997  16460000  92.379997\n",
              "4 1971-01-08  93.019997  91.599998  92.379997  92.190002  14100000  92.190002"
            ]
          },
          "metadata": {
            "tags": []
          },
          "execution_count": 62
        }
      ]
    },
    {
      "cell_type": "code",
      "metadata": {
        "id": "ZpqI-Ln0wBey",
        "colab_type": "code",
        "colab": {
          "base_uri": "https://localhost:8080/",
          "height": 276
        },
        "outputId": "c2725f74-b1bf-4a67-93f7-746800e7079d"
      },
      "source": [
        "#check the data types of all the other columns\n",
        "df.info()"
      ],
      "execution_count": 63,
      "outputs": [
        {
          "output_type": "stream",
          "text": [
            "<class 'pandas.core.frame.DataFrame'>\n",
            "RangeIndex: 12359 entries, 0 to 12358\n",
            "Data columns (total 7 columns):\n",
            " #   Column     Non-Null Count  Dtype         \n",
            "---  ------     --------------  -----         \n",
            " 0   Date       12359 non-null  datetime64[ns]\n",
            " 1   High       12359 non-null  float64       \n",
            " 2   Low        12359 non-null  float64       \n",
            " 3   Open       12359 non-null  float64       \n",
            " 4   Close      12359 non-null  float64       \n",
            " 5   Volume     12359 non-null  int64         \n",
            " 6   Adj Close  12359 non-null  float64       \n",
            "dtypes: datetime64[ns](1), float64(5), int64(1)\n",
            "memory usage: 676.0 KB\n"
          ],
          "name": "stdout"
        }
      ]
    },
    {
      "cell_type": "markdown",
      "metadata": {
        "id": "GLrJrfdTWuEo",
        "colab_type": "text"
      },
      "source": [
        "##Splitting Data into a Training set and a Test set"
      ]
    },
    {
      "cell_type": "code",
      "metadata": {
        "id": "w58Q4H6IT5K2",
        "colab_type": "code",
        "colab": {}
      },
      "source": [
        "# First calculate the mid prices from the highest and lowest\n",
        "high_prices = df.loc[:,'High'].values\n",
        "low_prices = df.loc[:,'Low'].values\n",
        "mid_prices = (high_prices+low_prices)/2.0"
      ],
      "execution_count": 64,
      "outputs": []
    },
    {
      "cell_type": "code",
      "metadata": {
        "id": "aLlDyhGrT5HA",
        "colab_type": "code",
        "colab": {}
      },
      "source": [
        "# 12359 is the length of our data frame\n",
        "train_data = mid_prices[:11000]\n",
        "test_data = mid_prices[11000:]"
      ],
      "execution_count": 65,
      "outputs": []
    },
    {
      "cell_type": "code",
      "metadata": {
        "id": "Rzmu2qTv01ap",
        "colab_type": "code",
        "colab": {}
      },
      "source": [
        ""
      ],
      "execution_count": 6,
      "outputs": []
    },
    {
      "cell_type": "markdown",
      "metadata": {
        "id": "dbmu3lyf0Rme",
        "colab_type": "text"
      },
      "source": [
        "####Normalizing the Data"
      ]
    },
    {
      "cell_type": "code",
      "metadata": {
        "id": "vRIqBPAkT5ED",
        "colab_type": "code",
        "colab": {}
      },
      "source": [
        "# Scale the data to be between 0 and 1\n",
        "# When scaling remember! You normalize both test and train data with respect to training data\n",
        "# Because you are not supposed to have access to test data\n",
        "scaler = MinMaxScaler(feature_range=(0,1))\n",
        "train_data = train_data.reshape(-1,1)\n",
        "test_data = test_data.reshape(-1,1)"
      ],
      "execution_count": 66,
      "outputs": []
    },
    {
      "cell_type": "code",
      "metadata": {
        "id": "MmSsde8OehT7",
        "colab_type": "code",
        "colab": {}
      },
      "source": [
        "# Train the Scaler with training data and smooth data\n",
        "smoothing_window_size = 2500\n",
        "for di in range(0,10000,smoothing_window_size):\n",
        "    scaler.fit(train_data[di:di+smoothing_window_size,:])\n",
        "    train_data[di:di+smoothing_window_size,:] = scaler.transform(train_data[di:di+smoothing_window_size,:])\n",
        "\n",
        "# You normalize the last bit of remaining data\n",
        "scaler.fit(train_data[di+smoothing_window_size:,:])\n",
        "train_data[di+smoothing_window_size:,:] = scaler.transform(train_data[di+smoothing_window_size:,:])"
      ],
      "execution_count": 67,
      "outputs": []
    },
    {
      "cell_type": "code",
      "metadata": {
        "id": "rZCc--YiBqdw",
        "colab_type": "code",
        "colab": {
          "base_uri": "https://localhost:8080/",
          "height": 54
        },
        "outputId": "0ab4589a-9625-4009-fa07-d0ccbe655657"
      },
      "source": [
        "print(type(train_data))\n",
        "print(len(train_data))"
      ],
      "execution_count": 68,
      "outputs": [
        {
          "output_type": "stream",
          "text": [
            "<class 'numpy.ndarray'>\n",
            "11000\n"
          ],
          "name": "stdout"
        }
      ]
    },
    {
      "cell_type": "markdown",
      "metadata": {
        "id": "0t0IXmOT86lh",
        "colab_type": "text"
      },
      "source": [
        "##Incorporating Timesteps Into Data"
      ]
    },
    {
      "cell_type": "markdown",
      "metadata": {
        "id": "bj1wjm2E8-eo",
        "colab_type": "text"
      },
      "source": [
        "It's required that we should input our data in the form of a 3D array to the LSTM model. First, we create data in 60 timesteps before using numpy to convert it into an array. Finally, we convert the data into a 3D array with X_train samples, 60 timestamps, and one feature at each step."
      ]
    },
    {
      "cell_type": "code",
      "metadata": {
        "id": "HXc0acmC9NCp",
        "colab_type": "code",
        "colab": {}
      },
      "source": [
        "X_train = []\n",
        "y_train = []\n",
        "for i in range(60, len(train_data)):\n",
        "  X_train.append(train_data[i-60:i, 0])\n",
        "  y_train.append(train_data[i, 0])\n",
        "  \n",
        "X_train, y_train = np.array(X_train), np.array(y_train)\n",
        "X_train = np.reshape(X_train, (X_train.shape[0], X_train.shape[1], 1))"
      ],
      "execution_count": 69,
      "outputs": []
    },
    {
      "cell_type": "markdown",
      "metadata": {
        "id": "cJl1tmLC2yQr",
        "colab_type": "text"
      },
      "source": [
        "##Creating the LSTM Model"
      ]
    },
    {
      "cell_type": "markdown",
      "metadata": {
        "id": "8WBygIZc7jRV",
        "colab_type": "text"
      },
      "source": [
        "Before we can develop the LSTM, we have to make a few imports from **Keras**: **Sequential** for initializing the neural network, **LSTM** to add the LSTM layer, **Dropout** for preventing overfitting with dropout layers, and **Dense** to add a densely connected neural network layer."
      ]
    },
    {
      "cell_type": "code",
      "metadata": {
        "id": "cDRNhXY-0xwq",
        "colab_type": "code",
        "colab": {}
      },
      "source": [
        "from keras.models import Sequential\n",
        "from keras.layers import LSTM\n",
        "from keras.layers import Dropout\n",
        "from keras.layers import Dense"
      ],
      "execution_count": 11,
      "outputs": []
    },
    {
      "cell_type": "markdown",
      "metadata": {
        "id": "1L0h_CYo8E9e",
        "colab_type": "text"
      },
      "source": [
        "The LSTM layer is added with the following arguments: **50 units** is the dimensionality of the output space, **return_sequences=True** is necessary for stacking LSTM layers so the consequent LSTM layer has a three-dimensional sequence input, and **input_shape** is the shape of the training dataset.\n",
        "\n",
        "Specifying 0.2 in the Dropout layer means that 20% of the layers will be dropped. Following the LSTM and Dropout layers, we add the Dense layer that specifies an output of one unit. To compile our model we shall use the **Adam** optimizer and set the loss as the **mean_squared_error**. After that, we fit the model to run for 100 epochs with a batch size of 32."
      ]
    },
    {
      "cell_type": "code",
      "metadata": {
        "id": "cVpxrs4E7_aq",
        "colab_type": "code",
        "colab": {
          "base_uri": "https://localhost:8080/",
          "height": 1000
        },
        "outputId": "e4a2fa94-4557-4fa8-a05c-bd0d3a4dd751"
      },
      "source": [
        "model = Sequential()\n",
        "model.add(LSTM(units=50,return_sequences=True,input_shape=(X_train.shape[1], 1)))\n",
        "model.add(Dropout(0.2))\n",
        "model.add(LSTM(units=50,return_sequences=True))\n",
        "model.add(Dropout(0.2))\n",
        "model.add(LSTM(units=50,return_sequences=True))\n",
        "model.add(Dropout(0.2))\n",
        "model.add(LSTM(units=50))\n",
        "model.add(Dropout(0.2))\n",
        "model.add(Dense(units=1))\n",
        "model.compile(optimizer='adam',loss='mean_squared_error')\n",
        "model.fit(X_train,y_train,epochs=100,batch_size=32)"
      ],
      "execution_count": 12,
      "outputs": [
        {
          "output_type": "stream",
          "text": [
            "Epoch 1/100\n",
            "342/342 [==============================] - 19s 55ms/step - loss: 0.0086\n",
            "Epoch 2/100\n",
            "342/342 [==============================] - 19s 55ms/step - loss: 0.0039\n",
            "Epoch 3/100\n",
            "342/342 [==============================] - 19s 55ms/step - loss: 0.0032\n",
            "Epoch 4/100\n",
            "342/342 [==============================] - 19s 55ms/step - loss: 0.0028\n",
            "Epoch 5/100\n",
            "342/342 [==============================] - 19s 55ms/step - loss: 0.0025\n",
            "Epoch 6/100\n",
            "342/342 [==============================] - 19s 55ms/step - loss: 0.0020\n",
            "Epoch 7/100\n",
            "342/342 [==============================] - 19s 56ms/step - loss: 0.0019\n",
            "Epoch 8/100\n",
            "342/342 [==============================] - 19s 55ms/step - loss: 0.0017\n",
            "Epoch 9/100\n",
            "342/342 [==============================] - 19s 55ms/step - loss: 0.0017\n",
            "Epoch 10/100\n",
            "342/342 [==============================] - 19s 55ms/step - loss: 0.0015\n",
            "Epoch 11/100\n",
            "342/342 [==============================] - 19s 55ms/step - loss: 0.0013\n",
            "Epoch 12/100\n",
            "342/342 [==============================] - 19s 55ms/step - loss: 0.0013\n",
            "Epoch 13/100\n",
            "342/342 [==============================] - 19s 56ms/step - loss: 0.0012\n",
            "Epoch 14/100\n",
            "342/342 [==============================] - 19s 55ms/step - loss: 0.0011\n",
            "Epoch 15/100\n",
            "342/342 [==============================] - 19s 55ms/step - loss: 0.0011\n",
            "Epoch 16/100\n",
            "342/342 [==============================] - 19s 55ms/step - loss: 0.0010\n",
            "Epoch 17/100\n",
            "342/342 [==============================] - 19s 55ms/step - loss: 0.0010\n",
            "Epoch 18/100\n",
            "342/342 [==============================] - 19s 55ms/step - loss: 0.0010\n",
            "Epoch 19/100\n",
            "342/342 [==============================] - 19s 55ms/step - loss: 9.9345e-04\n",
            "Epoch 20/100\n",
            "342/342 [==============================] - 19s 55ms/step - loss: 9.5343e-04\n",
            "Epoch 21/100\n",
            "342/342 [==============================] - 19s 55ms/step - loss: 9.4648e-04\n",
            "Epoch 22/100\n",
            "342/342 [==============================] - 19s 55ms/step - loss: 9.7082e-04\n",
            "Epoch 23/100\n",
            "342/342 [==============================] - 19s 55ms/step - loss: 9.4634e-04\n",
            "Epoch 24/100\n",
            "342/342 [==============================] - 19s 55ms/step - loss: 9.3871e-04\n",
            "Epoch 25/100\n",
            "342/342 [==============================] - 19s 55ms/step - loss: 9.3107e-04\n",
            "Epoch 26/100\n",
            "342/342 [==============================] - 19s 56ms/step - loss: 9.2183e-04\n",
            "Epoch 27/100\n",
            "342/342 [==============================] - 19s 56ms/step - loss: 8.9724e-04\n",
            "Epoch 28/100\n",
            "342/342 [==============================] - 19s 55ms/step - loss: 8.4557e-04\n",
            "Epoch 29/100\n",
            "342/342 [==============================] - 19s 55ms/step - loss: 9.1690e-04\n",
            "Epoch 30/100\n",
            "342/342 [==============================] - 19s 55ms/step - loss: 8.6615e-04\n",
            "Epoch 31/100\n",
            "342/342 [==============================] - 19s 55ms/step - loss: 9.1465e-04\n",
            "Epoch 32/100\n",
            "342/342 [==============================] - 19s 55ms/step - loss: 8.6900e-04\n",
            "Epoch 33/100\n",
            "342/342 [==============================] - 19s 55ms/step - loss: 8.5882e-04\n",
            "Epoch 34/100\n",
            "342/342 [==============================] - 19s 55ms/step - loss: 8.6518e-04\n",
            "Epoch 35/100\n",
            "342/342 [==============================] - 19s 56ms/step - loss: 8.8613e-04\n",
            "Epoch 36/100\n",
            "342/342 [==============================] - 19s 56ms/step - loss: 9.1250e-04\n",
            "Epoch 37/100\n",
            "342/342 [==============================] - 19s 56ms/step - loss: 8.7389e-04\n",
            "Epoch 38/100\n",
            "342/342 [==============================] - 19s 55ms/step - loss: 8.7496e-04\n",
            "Epoch 39/100\n",
            "342/342 [==============================] - 19s 55ms/step - loss: 8.0823e-04\n",
            "Epoch 40/100\n",
            "342/342 [==============================] - 19s 55ms/step - loss: 8.0859e-04\n",
            "Epoch 41/100\n",
            "342/342 [==============================] - 19s 56ms/step - loss: 8.2967e-04\n",
            "Epoch 42/100\n",
            "342/342 [==============================] - 19s 55ms/step - loss: 8.0012e-04\n",
            "Epoch 43/100\n",
            "342/342 [==============================] - 19s 55ms/step - loss: 8.4556e-04\n",
            "Epoch 44/100\n",
            "342/342 [==============================] - 19s 55ms/step - loss: 8.4846e-04\n",
            "Epoch 45/100\n",
            "342/342 [==============================] - 19s 55ms/step - loss: 8.1385e-04\n",
            "Epoch 46/100\n",
            "342/342 [==============================] - 19s 55ms/step - loss: 7.8885e-04\n",
            "Epoch 47/100\n",
            "342/342 [==============================] - 19s 55ms/step - loss: 8.0941e-04\n",
            "Epoch 48/100\n",
            "342/342 [==============================] - 19s 56ms/step - loss: 7.8635e-04\n",
            "Epoch 49/100\n",
            "342/342 [==============================] - 19s 55ms/step - loss: 7.5288e-04\n",
            "Epoch 50/100\n",
            "342/342 [==============================] - 19s 55ms/step - loss: 7.7936e-04\n",
            "Epoch 51/100\n",
            "342/342 [==============================] - 19s 55ms/step - loss: 7.8105e-04\n",
            "Epoch 52/100\n",
            "342/342 [==============================] - 19s 55ms/step - loss: 7.9510e-04\n",
            "Epoch 53/100\n",
            "342/342 [==============================] - 19s 55ms/step - loss: 7.8725e-04\n",
            "Epoch 54/100\n",
            "342/342 [==============================] - 19s 55ms/step - loss: 7.9872e-04\n",
            "Epoch 55/100\n",
            "342/342 [==============================] - 19s 55ms/step - loss: 7.8096e-04\n",
            "Epoch 56/100\n",
            "342/342 [==============================] - 19s 56ms/step - loss: 7.5262e-04\n",
            "Epoch 57/100\n",
            "342/342 [==============================] - 19s 55ms/step - loss: 7.4966e-04\n",
            "Epoch 58/100\n",
            "342/342 [==============================] - 19s 55ms/step - loss: 7.6954e-04\n",
            "Epoch 59/100\n",
            "342/342 [==============================] - 19s 55ms/step - loss: 7.9180e-04\n",
            "Epoch 60/100\n",
            "342/342 [==============================] - 19s 55ms/step - loss: 7.8142e-04\n",
            "Epoch 61/100\n",
            "342/342 [==============================] - 19s 55ms/step - loss: 7.2951e-04\n",
            "Epoch 62/100\n",
            "342/342 [==============================] - 19s 55ms/step - loss: 7.3581e-04\n",
            "Epoch 63/100\n",
            "342/342 [==============================] - 19s 55ms/step - loss: 7.7562e-04\n",
            "Epoch 64/100\n",
            "342/342 [==============================] - 19s 55ms/step - loss: 7.5403e-04\n",
            "Epoch 65/100\n",
            "342/342 [==============================] - 19s 55ms/step - loss: 7.7748e-04\n",
            "Epoch 66/100\n",
            "342/342 [==============================] - 19s 55ms/step - loss: 8.0711e-04\n",
            "Epoch 67/100\n",
            "342/342 [==============================] - 19s 55ms/step - loss: 7.7698e-04\n",
            "Epoch 68/100\n",
            "342/342 [==============================] - 19s 55ms/step - loss: 7.3646e-04\n",
            "Epoch 69/100\n",
            "342/342 [==============================] - 19s 55ms/step - loss: 7.5312e-04\n",
            "Epoch 70/100\n",
            "342/342 [==============================] - 19s 55ms/step - loss: 7.4651e-04\n",
            "Epoch 71/100\n",
            "342/342 [==============================] - 19s 55ms/step - loss: 7.6838e-04\n",
            "Epoch 72/100\n",
            "342/342 [==============================] - 19s 55ms/step - loss: 7.4932e-04\n",
            "Epoch 73/100\n",
            "342/342 [==============================] - 19s 55ms/step - loss: 7.5148e-04\n",
            "Epoch 74/100\n",
            "342/342 [==============================] - 19s 55ms/step - loss: 7.2284e-04\n",
            "Epoch 75/100\n",
            "342/342 [==============================] - 19s 55ms/step - loss: 7.4883e-04\n",
            "Epoch 76/100\n",
            "342/342 [==============================] - 19s 55ms/step - loss: 7.2828e-04\n",
            "Epoch 77/100\n",
            "342/342 [==============================] - 19s 55ms/step - loss: 7.0389e-04\n",
            "Epoch 78/100\n",
            "342/342 [==============================] - 19s 55ms/step - loss: 7.1697e-04\n",
            "Epoch 79/100\n",
            "342/342 [==============================] - 19s 55ms/step - loss: 7.6103e-04\n",
            "Epoch 80/100\n",
            "342/342 [==============================] - 19s 55ms/step - loss: 7.7708e-04\n",
            "Epoch 81/100\n",
            "342/342 [==============================] - 19s 55ms/step - loss: 7.4281e-04\n",
            "Epoch 82/100\n",
            "342/342 [==============================] - 19s 55ms/step - loss: 7.2938e-04\n",
            "Epoch 83/100\n",
            "342/342 [==============================] - 19s 55ms/step - loss: 7.1550e-04\n",
            "Epoch 84/100\n",
            "342/342 [==============================] - 19s 55ms/step - loss: 6.9601e-04\n",
            "Epoch 85/100\n",
            "342/342 [==============================] - 19s 55ms/step - loss: 7.2542e-04\n",
            "Epoch 86/100\n",
            "342/342 [==============================] - 19s 55ms/step - loss: 6.9714e-04\n",
            "Epoch 87/100\n",
            "342/342 [==============================] - 19s 55ms/step - loss: 7.1753e-04\n",
            "Epoch 88/100\n",
            "342/342 [==============================] - 19s 55ms/step - loss: 7.2412e-04\n",
            "Epoch 89/100\n",
            "342/342 [==============================] - 19s 55ms/step - loss: 7.1103e-04\n",
            "Epoch 90/100\n",
            "342/342 [==============================] - 19s 56ms/step - loss: 6.9948e-04\n",
            "Epoch 91/100\n",
            "342/342 [==============================] - 19s 55ms/step - loss: 7.1528e-04\n",
            "Epoch 92/100\n",
            "342/342 [==============================] - 19s 55ms/step - loss: 6.6482e-04\n",
            "Epoch 93/100\n",
            "342/342 [==============================] - 19s 56ms/step - loss: 6.9689e-04\n",
            "Epoch 94/100\n",
            "342/342 [==============================] - 19s 55ms/step - loss: 7.1334e-04\n",
            "Epoch 95/100\n",
            "342/342 [==============================] - 19s 55ms/step - loss: 7.0432e-04\n",
            "Epoch 96/100\n",
            "342/342 [==============================] - 19s 55ms/step - loss: 7.0699e-04\n",
            "Epoch 97/100\n",
            "342/342 [==============================] - 19s 55ms/step - loss: 7.0193e-04\n",
            "Epoch 98/100\n",
            "342/342 [==============================] - 19s 55ms/step - loss: 7.2206e-04\n",
            "Epoch 99/100\n",
            "342/342 [==============================] - 19s 56ms/step - loss: 7.1843e-04\n",
            "Epoch 100/100\n",
            "342/342 [==============================] - 19s 55ms/step - loss: 6.9601e-04\n"
          ],
          "name": "stdout"
        },
        {
          "output_type": "execute_result",
          "data": {
            "text/plain": [
              "<tensorflow.python.keras.callbacks.History at 0x7f24cec6f5c0>"
            ]
          },
          "metadata": {
            "tags": []
          },
          "execution_count": 12
        }
      ]
    },
    {
      "cell_type": "markdown",
      "metadata": {
        "id": "MThOfZ-asiqK",
        "colab_type": "text"
      },
      "source": [
        "##Making Predictions on the Test Set"
      ]
    },
    {
      "cell_type": "markdown",
      "metadata": {
        "id": "CHtuP-azspei",
        "colab_type": "text"
      },
      "source": [
        "Before predicting future stock prices, we set 60 as the time step again, use **MinMaxScaler**, and reshape data. Then, **inverse_transform** puts the stock prices in a normal readable format."
      ]
    },
    {
      "cell_type": "code",
      "metadata": {
        "id": "cDK1w4qn8Ius",
        "colab_type": "code",
        "colab": {}
      },
      "source": [
        "dataset_total = mid_prices\n",
        "inputs = dataset_total[len(dataset_total) - len(test_data) - 60:]\n",
        "inputs = inputs.reshape(-1,1)\n",
        "inputs = scaler.transform(inputs)\n",
        "X_test = []\n",
        "for i in range(60, len(inputs)):\n",
        "  X_test.append(inputs[i-60:i, 0])\n",
        "  \n",
        "X_test = np.array(X_test)\n",
        "X_test = np.reshape(X_test, (X_test.shape[0], X_test.shape[1], 1)) \n",
        "predicted_stock_price = model.predict(X_test)\n",
        "predicted_stock_price = scaler.inverse_transform(predicted_stock_price)"
      ],
      "execution_count": 70,
      "outputs": []
    },
    {
      "cell_type": "code",
      "metadata": {
        "id": "RNtKUJ2I-sUw",
        "colab_type": "code",
        "colab": {
          "base_uri": "https://localhost:8080/",
          "height": 146
        },
        "outputId": "222274e4-69ae-4c94-dc44-2c76ee726e30"
      },
      "source": [
        "predicted_stock_price"
      ],
      "execution_count": 71,
      "outputs": [
        {
          "output_type": "execute_result",
          "data": {
            "text/plain": [
              "array([[1106.6035],\n",
              "       [1094.9873],\n",
              "       [1047.4539],\n",
              "       ...,\n",
              "       [2092.5588],\n",
              "       [2092.513 ],\n",
              "       [2092.297 ]], dtype=float32)"
            ]
          },
          "metadata": {
            "tags": []
          },
          "execution_count": 71
        }
      ]
    },
    {
      "cell_type": "code",
      "metadata": {
        "id": "CmTDZrZtwBXZ",
        "colab_type": "code",
        "colab": {
          "base_uri": "https://localhost:8080/",
          "height": 621
        },
        "outputId": "45bebfe0-2e08-4b46-8d8c-02b604f3cbed"
      },
      "source": [
        "plt.figure(figsize=(20,10))\n",
        "plt.plot(test_data, color = 'black', label = 'Real Stock Price')\n",
        "plt.plot(predicted_stock_price, color = 'green', label = 'Predicted Stock Price')\n",
        "plt.title('Stock Price Prediction')\n",
        "plt.xlabel('Time')\n",
        "plt.ylabel('Real Stock Price')\n",
        "plt.legend()\n",
        "plt.show()"
      ],
      "execution_count": 72,
      "outputs": [
        {
          "output_type": "display_data",
          "data": {
            "image/png": "[encoded data removed]",
            "text/plain": [
              "<Figure size 1440x720 with 1 Axes>"
            ]
          },
          "metadata": {
            "tags": [],
            "needs_background": "light"
          }
        }
      ]
    }
  ]
}